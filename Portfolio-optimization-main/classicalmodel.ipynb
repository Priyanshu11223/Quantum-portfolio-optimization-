{
  "nbformat": 4,
  "nbformat_minor": 0,
  "metadata": {
    "colab": {
      "provenance": []
    },
    "kernelspec": {
      "name": "python3",
      "display_name": "Python 3"
    },
    "language_info": {
      "name": "python"
    }
  },
  "cells": [
    {
      "cell_type": "code",
      "execution_count": 3,
      "metadata": {
        "id": "jwx8TlKcsyuO"
      },
      "outputs": [],
      "source": [
        "#Description:This program attempts to optimize a users portfolio using the Efficient Frontier"
      ]
    },
    {
      "cell_type": "code",
      "source": [
        "#import libaries\n",
        "from pandas_datareader  import data as web\n",
        "import pandas as pd\n",
        "import numpy as np\n",
        "from datetime import datetime\n",
        "import matplotlib.pyplot as plt\n",
        "plt.style.use('fivethirtyeight')"
      ],
      "metadata": {
        "id": "VRVgK-s-tLTD"
      },
      "execution_count": 4,
      "outputs": []
    },
    {
      "cell_type": "code",
      "source": [
        "#Get the stock symbols/tickers in the portfolio\n",
        "#FAANG\n",
        "assets = ['AAPL', 'IBM', 'MSFT', 'WMT']"
      ],
      "metadata": {
        "id": "_np1RO5auHuS"
      },
      "execution_count": 30,
      "outputs": []
    },
    {
      "cell_type": "code",
      "source": [
        "#Assign weight to the stocks \n",
        "weights=np.array([0.25,0.25,0.25,0.25])"
      ],
      "metadata": {
        "id": "HALdYN_yumHi"
      },
      "execution_count": 53,
      "outputs": []
    },
    {
      "cell_type": "code",
      "source": [
        "#Get the stock/portfolio starting date\n",
        "stockStartDate='2017-01-01'"
      ],
      "metadata": {
        "id": "bCJVfJqZu-jw"
      },
      "execution_count": 12,
      "outputs": []
    },
    {
      "cell_type": "code",
      "source": [
        "#Get the stocks ending date (today)\n",
        "today='2022-12-30'\n",
        "today"
      ],
      "metadata": {
        "colab": {
          "base_uri": "https://localhost:8080/",
          "height": 35
        },
        "id": "qL-QDk62vg19",
        "outputId": "5f69e4ef-3f51-4251-a213-99bbf87983ad"
      },
      "execution_count": 10,
      "outputs": [
        {
          "output_type": "execute_result",
          "data": {
            "text/plain": [
              "'2022-12-30'"
            ],
            "application/vnd.google.colaboratory.intrinsic+json": {
              "type": "string"
            }
          },
          "metadata": {},
          "execution_count": 10
        }
      ]
    },
    {
      "cell_type": "code",
      "source": [
        "!pip install yfinance"
      ],
      "metadata": {
        "colab": {
          "base_uri": "https://localhost:8080/",
          "height": 971
        },
        "id": "iK-PbG-ky7kT",
        "outputId": "3b608bf0-e305-4b83-f2a8-aa4dd9907fe3"
      },
      "execution_count": 15,
      "outputs": [
        {
          "output_type": "stream",
          "name": "stdout",
          "text": [
            "Looking in indexes: https://pypi.org/simple, https://us-python.pkg.dev/colab-wheels/public/simple/\n",
            "Collecting yfinance\n",
            "  Downloading yfinance-0.2.3-py2.py3-none-any.whl (50 kB)\n",
            "\u001b[K     |████████████████████████████████| 50 kB 3.3 MB/s \n",
            "\u001b[?25hCollecting html5lib>=1.1\n",
            "  Downloading html5lib-1.1-py2.py3-none-any.whl (112 kB)\n",
            "\u001b[K     |████████████████████████████████| 112 kB 9.7 MB/s \n",
            "\u001b[?25hCollecting requests>=2.26\n",
            "  Downloading requests-2.28.1-py3-none-any.whl (62 kB)\n",
            "\u001b[K     |████████████████████████████████| 62 kB 1.4 MB/s \n",
            "\u001b[?25hCollecting beautifulsoup4>=4.11.1\n",
            "  Downloading beautifulsoup4-4.11.1-py3-none-any.whl (128 kB)\n",
            "\u001b[K     |████████████████████████████████| 128 kB 62.5 MB/s \n",
            "\u001b[?25hRequirement already satisfied: multitasking>=0.0.7 in /usr/local/lib/python3.8/dist-packages (from yfinance) (0.0.11)\n",
            "Requirement already satisfied: lxml>=4.9.1 in /usr/local/lib/python3.8/dist-packages (from yfinance) (4.9.2)\n",
            "Requirement already satisfied: appdirs>=1.4.4 in /usr/local/lib/python3.8/dist-packages (from yfinance) (1.4.4)\n",
            "Requirement already satisfied: pandas>=1.3.0 in /usr/local/lib/python3.8/dist-packages (from yfinance) (1.3.5)\n",
            "Requirement already satisfied: pytz>=2022.5 in /usr/local/lib/python3.8/dist-packages (from yfinance) (2022.6)\n",
            "Collecting cryptography>=3.3.2\n",
            "  Downloading cryptography-38.0.4-cp36-abi3-manylinux_2_24_x86_64.whl (4.0 MB)\n",
            "\u001b[K     |████████████████████████████████| 4.0 MB 59.8 MB/s \n",
            "\u001b[?25hRequirement already satisfied: numpy>=1.16.5 in /usr/local/lib/python3.8/dist-packages (from yfinance) (1.21.6)\n",
            "Collecting frozendict>=2.3.4\n",
            "  Downloading frozendict-2.3.4-cp38-cp38-manylinux_2_17_x86_64.manylinux2014_x86_64.whl (110 kB)\n",
            "\u001b[K     |████████████████████████████████| 110 kB 66.9 MB/s \n",
            "\u001b[?25hCollecting soupsieve>1.2\n",
            "  Downloading soupsieve-2.3.2.post1-py3-none-any.whl (37 kB)\n",
            "Requirement already satisfied: cffi>=1.12 in /usr/local/lib/python3.8/dist-packages (from cryptography>=3.3.2->yfinance) (1.15.1)\n",
            "Requirement already satisfied: pycparser in /usr/local/lib/python3.8/dist-packages (from cffi>=1.12->cryptography>=3.3.2->yfinance) (2.21)\n",
            "Requirement already satisfied: six>=1.9 in /usr/local/lib/python3.8/dist-packages (from html5lib>=1.1->yfinance) (1.15.0)\n",
            "Requirement already satisfied: webencodings in /usr/local/lib/python3.8/dist-packages (from html5lib>=1.1->yfinance) (0.5.1)\n",
            "Requirement already satisfied: python-dateutil>=2.7.3 in /usr/local/lib/python3.8/dist-packages (from pandas>=1.3.0->yfinance) (2.8.2)\n",
            "Requirement already satisfied: urllib3<1.27,>=1.21.1 in /usr/local/lib/python3.8/dist-packages (from requests>=2.26->yfinance) (1.24.3)\n",
            "Requirement already satisfied: certifi>=2017.4.17 in /usr/local/lib/python3.8/dist-packages (from requests>=2.26->yfinance) (2022.12.7)\n",
            "Requirement already satisfied: charset-normalizer<3,>=2 in /usr/local/lib/python3.8/dist-packages (from requests>=2.26->yfinance) (2.1.1)\n",
            "Requirement already satisfied: idna<4,>=2.5 in /usr/local/lib/python3.8/dist-packages (from requests>=2.26->yfinance) (2.10)\n",
            "Installing collected packages: soupsieve, requests, html5lib, frozendict, cryptography, beautifulsoup4, yfinance\n",
            "  Attempting uninstall: requests\n",
            "    Found existing installation: requests 2.23.0\n",
            "    Uninstalling requests-2.23.0:\n",
            "      Successfully uninstalled requests-2.23.0\n",
            "  Attempting uninstall: html5lib\n",
            "    Found existing installation: html5lib 1.0.1\n",
            "    Uninstalling html5lib-1.0.1:\n",
            "      Successfully uninstalled html5lib-1.0.1\n",
            "  Attempting uninstall: beautifulsoup4\n",
            "    Found existing installation: beautifulsoup4 4.6.3\n",
            "    Uninstalling beautifulsoup4-4.6.3:\n",
            "      Successfully uninstalled beautifulsoup4-4.6.3\n",
            "Successfully installed beautifulsoup4-4.11.1 cryptography-38.0.4 frozendict-2.3.4 html5lib-1.1 requests-2.28.1 soupsieve-2.3.2.post1 yfinance-0.2.3\n"
          ]
        },
        {
          "output_type": "display_data",
          "data": {
            "application/vnd.colab-display-data+json": {
              "pip_warning": {
                "packages": [
                  "requests"
                ]
              }
            }
          },
          "metadata": {}
        }
      ]
    },
    {
      "cell_type": "code",
      "source": [
        "import yfinance as yf\n",
        "df=pd.DataFrame()\n",
        "hist=yf.Ticker('AAPL')\n",
        "df=hist.history(period='5y',auto_adjust='True')\n",
        "df"
      ],
      "metadata": {
        "colab": {
          "base_uri": "https://localhost:8080/",
          "height": 655
        },
        "id": "y1RE8R34zjiP",
        "outputId": "352a69b4-fa03-4e01-9ca6-627d1946e8ed"
      },
      "execution_count": 25,
      "outputs": [
        {
          "output_type": "execute_result",
          "data": {
            "text/plain": [
              "                                Open       High        Low      Close  \\\n",
              "Date                                                                    \n",
              "2017-12-28 00:00:00-05:00  52.580002  52.737499  52.238499  52.407001   \n",
              "2017-12-29 00:00:00-05:00  52.335999  52.485001  52.244999  52.320000   \n",
              "2018-01-02 00:00:00-05:00  52.417000  53.347000  52.261501  53.250000   \n",
              "2018-01-03 00:00:00-05:00  53.215500  54.314499  53.160500  54.124001   \n",
              "2018-01-04 00:00:00-05:00  54.400002  54.678501  54.200100  54.320000   \n",
              "...                              ...        ...        ...        ...   \n",
              "2022-12-20 00:00:00-05:00  88.730003  89.779999  88.040001  89.629997   \n",
              "2022-12-21 00:00:00-05:00  89.730003  90.915001  88.910004  90.250000   \n",
              "2022-12-22 00:00:00-05:00  88.930000  89.180000  86.940002  88.260002   \n",
              "2022-12-23 00:00:00-05:00  87.620003  90.099998  87.620003  89.809998   \n",
              "2022-12-27 00:00:00-05:00  89.309998  89.500000  87.535004  87.930000   \n",
              "\n",
              "                             Volume  Dividends  Stock Splits  \n",
              "Date                                                          \n",
              "2017-12-28 00:00:00-05:00  16742000        0.0           0.0  \n",
              "2017-12-29 00:00:00-05:00  17750000        0.0           0.0  \n",
              "2018-01-02 00:00:00-05:00  24752000        0.0           0.0  \n",
              "2018-01-03 00:00:00-05:00  28604000        0.0           0.0  \n",
              "2018-01-04 00:00:00-05:00  20092000        0.0           0.0  \n",
              "...                             ...        ...           ...  \n",
              "2022-12-20 00:00:00-05:00  21976800        0.0           0.0  \n",
              "2022-12-21 00:00:00-05:00  20336400        0.0           0.0  \n",
              "2022-12-22 00:00:00-05:00  23656100        0.0           0.0  \n",
              "2022-12-23 00:00:00-05:00  17810000        0.0           0.0  \n",
              "2022-12-27 00:00:00-05:00  15457200        0.0           0.0  \n",
              "\n",
              "[1258 rows x 7 columns]"
            ],
            "text/html": [
              "\n",
              "  <div id=\"df-7a9041e7-c05f-43a5-92e8-892de1431d8b\">\n",
              "    <div class=\"colab-df-container\">\n",
              "      <div>\n",
              "<style scoped>\n",
              "    .dataframe tbody tr th:only-of-type {\n",
              "        vertical-align: middle;\n",
              "    }\n",
              "\n",
              "    .dataframe tbody tr th {\n",
              "        vertical-align: top;\n",
              "    }\n",
              "\n",
              "    .dataframe thead th {\n",
              "        text-align: right;\n",
              "    }\n",
              "</style>\n",
              "<table border=\"1\" class=\"dataframe\">\n",
              "  <thead>\n",
              "    <tr style=\"text-align: right;\">\n",
              "      <th></th>\n",
              "      <th>Open</th>\n",
              "      <th>High</th>\n",
              "      <th>Low</th>\n",
              "      <th>Close</th>\n",
              "      <th>Volume</th>\n",
              "      <th>Dividends</th>\n",
              "      <th>Stock Splits</th>\n",
              "    </tr>\n",
              "    <tr>\n",
              "      <th>Date</th>\n",
              "      <th></th>\n",
              "      <th></th>\n",
              "      <th></th>\n",
              "      <th></th>\n",
              "      <th></th>\n",
              "      <th></th>\n",
              "      <th></th>\n",
              "    </tr>\n",
              "  </thead>\n",
              "  <tbody>\n",
              "    <tr>\n",
              "      <th>2017-12-28 00:00:00-05:00</th>\n",
              "      <td>52.580002</td>\n",
              "      <td>52.737499</td>\n",
              "      <td>52.238499</td>\n",
              "      <td>52.407001</td>\n",
              "      <td>16742000</td>\n",
              "      <td>0.0</td>\n",
              "      <td>0.0</td>\n",
              "    </tr>\n",
              "    <tr>\n",
              "      <th>2017-12-29 00:00:00-05:00</th>\n",
              "      <td>52.335999</td>\n",
              "      <td>52.485001</td>\n",
              "      <td>52.244999</td>\n",
              "      <td>52.320000</td>\n",
              "      <td>17750000</td>\n",
              "      <td>0.0</td>\n",
              "      <td>0.0</td>\n",
              "    </tr>\n",
              "    <tr>\n",
              "      <th>2018-01-02 00:00:00-05:00</th>\n",
              "      <td>52.417000</td>\n",
              "      <td>53.347000</td>\n",
              "      <td>52.261501</td>\n",
              "      <td>53.250000</td>\n",
              "      <td>24752000</td>\n",
              "      <td>0.0</td>\n",
              "      <td>0.0</td>\n",
              "    </tr>\n",
              "    <tr>\n",
              "      <th>2018-01-03 00:00:00-05:00</th>\n",
              "      <td>53.215500</td>\n",
              "      <td>54.314499</td>\n",
              "      <td>53.160500</td>\n",
              "      <td>54.124001</td>\n",
              "      <td>28604000</td>\n",
              "      <td>0.0</td>\n",
              "      <td>0.0</td>\n",
              "    </tr>\n",
              "    <tr>\n",
              "      <th>2018-01-04 00:00:00-05:00</th>\n",
              "      <td>54.400002</td>\n",
              "      <td>54.678501</td>\n",
              "      <td>54.200100</td>\n",
              "      <td>54.320000</td>\n",
              "      <td>20092000</td>\n",
              "      <td>0.0</td>\n",
              "      <td>0.0</td>\n",
              "    </tr>\n",
              "    <tr>\n",
              "      <th>...</th>\n",
              "      <td>...</td>\n",
              "      <td>...</td>\n",
              "      <td>...</td>\n",
              "      <td>...</td>\n",
              "      <td>...</td>\n",
              "      <td>...</td>\n",
              "      <td>...</td>\n",
              "    </tr>\n",
              "    <tr>\n",
              "      <th>2022-12-20 00:00:00-05:00</th>\n",
              "      <td>88.730003</td>\n",
              "      <td>89.779999</td>\n",
              "      <td>88.040001</td>\n",
              "      <td>89.629997</td>\n",
              "      <td>21976800</td>\n",
              "      <td>0.0</td>\n",
              "      <td>0.0</td>\n",
              "    </tr>\n",
              "    <tr>\n",
              "      <th>2022-12-21 00:00:00-05:00</th>\n",
              "      <td>89.730003</td>\n",
              "      <td>90.915001</td>\n",
              "      <td>88.910004</td>\n",
              "      <td>90.250000</td>\n",
              "      <td>20336400</td>\n",
              "      <td>0.0</td>\n",
              "      <td>0.0</td>\n",
              "    </tr>\n",
              "    <tr>\n",
              "      <th>2022-12-22 00:00:00-05:00</th>\n",
              "      <td>88.930000</td>\n",
              "      <td>89.180000</td>\n",
              "      <td>86.940002</td>\n",
              "      <td>88.260002</td>\n",
              "      <td>23656100</td>\n",
              "      <td>0.0</td>\n",
              "      <td>0.0</td>\n",
              "    </tr>\n",
              "    <tr>\n",
              "      <th>2022-12-23 00:00:00-05:00</th>\n",
              "      <td>87.620003</td>\n",
              "      <td>90.099998</td>\n",
              "      <td>87.620003</td>\n",
              "      <td>89.809998</td>\n",
              "      <td>17810000</td>\n",
              "      <td>0.0</td>\n",
              "      <td>0.0</td>\n",
              "    </tr>\n",
              "    <tr>\n",
              "      <th>2022-12-27 00:00:00-05:00</th>\n",
              "      <td>89.309998</td>\n",
              "      <td>89.500000</td>\n",
              "      <td>87.535004</td>\n",
              "      <td>87.930000</td>\n",
              "      <td>15457200</td>\n",
              "      <td>0.0</td>\n",
              "      <td>0.0</td>\n",
              "    </tr>\n",
              "  </tbody>\n",
              "</table>\n",
              "<p>1258 rows × 7 columns</p>\n",
              "</div>\n",
              "      <button class=\"colab-df-convert\" onclick=\"convertToInteractive('df-7a9041e7-c05f-43a5-92e8-892de1431d8b')\"\n",
              "              title=\"Convert this dataframe to an interactive table.\"\n",
              "              style=\"display:none;\">\n",
              "        \n",
              "  <svg xmlns=\"http://www.w3.org/2000/svg\" height=\"24px\"viewBox=\"0 0 24 24\"\n",
              "       width=\"24px\">\n",
              "    <path d=\"M0 0h24v24H0V0z\" fill=\"none\"/>\n",
              "    <path d=\"M18.56 5.44l.94 2.06.94-2.06 2.06-.94-2.06-.94-.94-2.06-.94 2.06-2.06.94zm-11 1L8.5 8.5l.94-2.06 2.06-.94-2.06-.94L8.5 2.5l-.94 2.06-2.06.94zm10 10l.94 2.06.94-2.06 2.06-.94-2.06-.94-.94-2.06-.94 2.06-2.06.94z\"/><path d=\"M17.41 7.96l-1.37-1.37c-.4-.4-.92-.59-1.43-.59-.52 0-1.04.2-1.43.59L10.3 9.45l-7.72 7.72c-.78.78-.78 2.05 0 2.83L4 21.41c.39.39.9.59 1.41.59.51 0 1.02-.2 1.41-.59l7.78-7.78 2.81-2.81c.8-.78.8-2.07 0-2.86zM5.41 20L4 18.59l7.72-7.72 1.47 1.35L5.41 20z\"/>\n",
              "  </svg>\n",
              "      </button>\n",
              "      \n",
              "  <style>\n",
              "    .colab-df-container {\n",
              "      display:flex;\n",
              "      flex-wrap:wrap;\n",
              "      gap: 12px;\n",
              "    }\n",
              "\n",
              "    .colab-df-convert {\n",
              "      background-color: #E8F0FE;\n",
              "      border: none;\n",
              "      border-radius: 50%;\n",
              "      cursor: pointer;\n",
              "      display: none;\n",
              "      fill: #1967D2;\n",
              "      height: 32px;\n",
              "      padding: 0 0 0 0;\n",
              "      width: 32px;\n",
              "    }\n",
              "\n",
              "    .colab-df-convert:hover {\n",
              "      background-color: #E2EBFA;\n",
              "      box-shadow: 0px 1px 2px rgba(60, 64, 67, 0.3), 0px 1px 3px 1px rgba(60, 64, 67, 0.15);\n",
              "      fill: #174EA6;\n",
              "    }\n",
              "\n",
              "    [theme=dark] .colab-df-convert {\n",
              "      background-color: #3B4455;\n",
              "      fill: #D2E3FC;\n",
              "    }\n",
              "\n",
              "    [theme=dark] .colab-df-convert:hover {\n",
              "      background-color: #434B5C;\n",
              "      box-shadow: 0px 1px 3px 1px rgba(0, 0, 0, 0.15);\n",
              "      filter: drop-shadow(0px 1px 2px rgba(0, 0, 0, 0.3));\n",
              "      fill: #FFFFFF;\n",
              "    }\n",
              "  </style>\n",
              "\n",
              "      <script>\n",
              "        const buttonEl =\n",
              "          document.querySelector('#df-7a9041e7-c05f-43a5-92e8-892de1431d8b button.colab-df-convert');\n",
              "        buttonEl.style.display =\n",
              "          google.colab.kernel.accessAllowed ? 'block' : 'none';\n",
              "\n",
              "        async function convertToInteractive(key) {\n",
              "          const element = document.querySelector('#df-7a9041e7-c05f-43a5-92e8-892de1431d8b');\n",
              "          const dataTable =\n",
              "            await google.colab.kernel.invokeFunction('convertToInteractive',\n",
              "                                                     [key], {});\n",
              "          if (!dataTable) return;\n",
              "\n",
              "          const docLinkHtml = 'Like what you see? Visit the ' +\n",
              "            '<a target=\"_blank\" href=https://colab.research.google.com/notebooks/data_table.ipynb>data table notebook</a>'\n",
              "            + ' to learn more about interactive tables.';\n",
              "          element.innerHTML = '';\n",
              "          dataTable['output_type'] = 'display_data';\n",
              "          await google.colab.output.renderOutput(dataTable, element);\n",
              "          const docLink = document.createElement('div');\n",
              "          docLink.innerHTML = docLinkHtml;\n",
              "          element.appendChild(docLink);\n",
              "        }\n",
              "      </script>\n",
              "    </div>\n",
              "  </div>\n",
              "  "
            ]
          },
          "metadata": {},
          "execution_count": 25
        }
      ]
    },
    {
      "cell_type": "code",
      "source": [
        "hist=yf.Ticker('GOOG')\n",
        "mf=hist.history(period='5y',auto_adjust='True')\n",
        "mf"
      ],
      "metadata": {
        "id": "j3OhBDAxAIVq"
      },
      "execution_count": 17,
      "outputs": []
    },
    {
      "cell_type": "code",
      "source": [
        "import yfinance as yf\n",
        "import pandas as pd\n",
        "\n",
        "# Set the start and end date\n",
        "start_date = '2013-01-01'\n",
        "end_date = today\n",
        "\n",
        "# Define the ticker list\n",
        "tickers_list = ['AAPL', 'IBM', 'MSFT', 'WMT']\n",
        "\n",
        "# Create placeholder for data\n",
        "data = pd.DataFrame(columns=tickers_list)\n",
        "\n",
        "# Fetch the data\n",
        "for ticker in tickers_list:\n",
        "    data[ticker] = yf.download(ticker, \n",
        "                               start_date,\n",
        "                               end_date)['Adj Close']\n",
        "data\n",
        "    "
      ],
      "metadata": {
        "colab": {
          "base_uri": "https://localhost:8080/",
          "height": 524
        },
        "id": "lepxfT6SnK8Q",
        "outputId": "0ca4de23-a0ca-4f54-cc6f-f3ff1c0cdaed"
      },
      "execution_count": 38,
      "outputs": [
        {
          "output_type": "stream",
          "name": "stdout",
          "text": [
            "[*********************100%***********************]  1 of 1 completed\n",
            "[*********************100%***********************]  1 of 1 completed\n",
            "[*********************100%***********************]  1 of 1 completed\n",
            "[*********************100%***********************]  1 of 1 completed\n"
          ]
        },
        {
          "output_type": "execute_result",
          "data": {
            "text/plain": [
              "                  AAPL         IBM        MSFT         WMT\n",
              "Date                                                      \n",
              "2013-01-02   16.862818  127.031830   22.774689   55.454227\n",
              "2013-01-03   16.649977  126.333145   22.469595   55.101830\n",
              "2013-01-04   16.186203  125.504982   22.049063   55.310059\n",
              "2013-01-07   16.090984  124.955086   22.007833   54.781471\n",
              "2013-01-08   16.134293  124.780396   21.892393   54.933640\n",
              "...                ...         ...         ...         ...\n",
              "2022-12-20  132.300003  141.279999  241.800003  144.050003\n",
              "2022-12-21  135.449997  142.139999  244.429993  145.179993\n",
              "2022-12-22  132.229996  140.880005  238.190002  143.479996\n",
              "2022-12-23  131.860001  141.649994  238.729996  143.770004\n",
              "2022-12-27  130.029999  142.419998  236.960007  143.809998\n",
              "\n",
              "[2515 rows x 4 columns]"
            ],
            "text/html": [
              "\n",
              "  <div id=\"df-166cfd17-80de-4f60-b160-2a9e81d51a23\">\n",
              "    <div class=\"colab-df-container\">\n",
              "      <div>\n",
              "<style scoped>\n",
              "    .dataframe tbody tr th:only-of-type {\n",
              "        vertical-align: middle;\n",
              "    }\n",
              "\n",
              "    .dataframe tbody tr th {\n",
              "        vertical-align: top;\n",
              "    }\n",
              "\n",
              "    .dataframe thead th {\n",
              "        text-align: right;\n",
              "    }\n",
              "</style>\n",
              "<table border=\"1\" class=\"dataframe\">\n",
              "  <thead>\n",
              "    <tr style=\"text-align: right;\">\n",
              "      <th></th>\n",
              "      <th>AAPL</th>\n",
              "      <th>IBM</th>\n",
              "      <th>MSFT</th>\n",
              "      <th>WMT</th>\n",
              "    </tr>\n",
              "    <tr>\n",
              "      <th>Date</th>\n",
              "      <th></th>\n",
              "      <th></th>\n",
              "      <th></th>\n",
              "      <th></th>\n",
              "    </tr>\n",
              "  </thead>\n",
              "  <tbody>\n",
              "    <tr>\n",
              "      <th>2013-01-02</th>\n",
              "      <td>16.862818</td>\n",
              "      <td>127.031830</td>\n",
              "      <td>22.774689</td>\n",
              "      <td>55.454227</td>\n",
              "    </tr>\n",
              "    <tr>\n",
              "      <th>2013-01-03</th>\n",
              "      <td>16.649977</td>\n",
              "      <td>126.333145</td>\n",
              "      <td>22.469595</td>\n",
              "      <td>55.101830</td>\n",
              "    </tr>\n",
              "    <tr>\n",
              "      <th>2013-01-04</th>\n",
              "      <td>16.186203</td>\n",
              "      <td>125.504982</td>\n",
              "      <td>22.049063</td>\n",
              "      <td>55.310059</td>\n",
              "    </tr>\n",
              "    <tr>\n",
              "      <th>2013-01-07</th>\n",
              "      <td>16.090984</td>\n",
              "      <td>124.955086</td>\n",
              "      <td>22.007833</td>\n",
              "      <td>54.781471</td>\n",
              "    </tr>\n",
              "    <tr>\n",
              "      <th>2013-01-08</th>\n",
              "      <td>16.134293</td>\n",
              "      <td>124.780396</td>\n",
              "      <td>21.892393</td>\n",
              "      <td>54.933640</td>\n",
              "    </tr>\n",
              "    <tr>\n",
              "      <th>...</th>\n",
              "      <td>...</td>\n",
              "      <td>...</td>\n",
              "      <td>...</td>\n",
              "      <td>...</td>\n",
              "    </tr>\n",
              "    <tr>\n",
              "      <th>2022-12-20</th>\n",
              "      <td>132.300003</td>\n",
              "      <td>141.279999</td>\n",
              "      <td>241.800003</td>\n",
              "      <td>144.050003</td>\n",
              "    </tr>\n",
              "    <tr>\n",
              "      <th>2022-12-21</th>\n",
              "      <td>135.449997</td>\n",
              "      <td>142.139999</td>\n",
              "      <td>244.429993</td>\n",
              "      <td>145.179993</td>\n",
              "    </tr>\n",
              "    <tr>\n",
              "      <th>2022-12-22</th>\n",
              "      <td>132.229996</td>\n",
              "      <td>140.880005</td>\n",
              "      <td>238.190002</td>\n",
              "      <td>143.479996</td>\n",
              "    </tr>\n",
              "    <tr>\n",
              "      <th>2022-12-23</th>\n",
              "      <td>131.860001</td>\n",
              "      <td>141.649994</td>\n",
              "      <td>238.729996</td>\n",
              "      <td>143.770004</td>\n",
              "    </tr>\n",
              "    <tr>\n",
              "      <th>2022-12-27</th>\n",
              "      <td>130.029999</td>\n",
              "      <td>142.419998</td>\n",
              "      <td>236.960007</td>\n",
              "      <td>143.809998</td>\n",
              "    </tr>\n",
              "  </tbody>\n",
              "</table>\n",
              "<p>2515 rows × 4 columns</p>\n",
              "</div>\n",
              "      <button class=\"colab-df-convert\" onclick=\"convertToInteractive('df-166cfd17-80de-4f60-b160-2a9e81d51a23')\"\n",
              "              title=\"Convert this dataframe to an interactive table.\"\n",
              "              style=\"display:none;\">\n",
              "        \n",
              "  <svg xmlns=\"http://www.w3.org/2000/svg\" height=\"24px\"viewBox=\"0 0 24 24\"\n",
              "       width=\"24px\">\n",
              "    <path d=\"M0 0h24v24H0V0z\" fill=\"none\"/>\n",
              "    <path d=\"M18.56 5.44l.94 2.06.94-2.06 2.06-.94-2.06-.94-.94-2.06-.94 2.06-2.06.94zm-11 1L8.5 8.5l.94-2.06 2.06-.94-2.06-.94L8.5 2.5l-.94 2.06-2.06.94zm10 10l.94 2.06.94-2.06 2.06-.94-2.06-.94-.94-2.06-.94 2.06-2.06.94z\"/><path d=\"M17.41 7.96l-1.37-1.37c-.4-.4-.92-.59-1.43-.59-.52 0-1.04.2-1.43.59L10.3 9.45l-7.72 7.72c-.78.78-.78 2.05 0 2.83L4 21.41c.39.39.9.59 1.41.59.51 0 1.02-.2 1.41-.59l7.78-7.78 2.81-2.81c.8-.78.8-2.07 0-2.86zM5.41 20L4 18.59l7.72-7.72 1.47 1.35L5.41 20z\"/>\n",
              "  </svg>\n",
              "      </button>\n",
              "      \n",
              "  <style>\n",
              "    .colab-df-container {\n",
              "      display:flex;\n",
              "      flex-wrap:wrap;\n",
              "      gap: 12px;\n",
              "    }\n",
              "\n",
              "    .colab-df-convert {\n",
              "      background-color: #E8F0FE;\n",
              "      border: none;\n",
              "      border-radius: 50%;\n",
              "      cursor: pointer;\n",
              "      display: none;\n",
              "      fill: #1967D2;\n",
              "      height: 32px;\n",
              "      padding: 0 0 0 0;\n",
              "      width: 32px;\n",
              "    }\n",
              "\n",
              "    .colab-df-convert:hover {\n",
              "      background-color: #E2EBFA;\n",
              "      box-shadow: 0px 1px 2px rgba(60, 64, 67, 0.3), 0px 1px 3px 1px rgba(60, 64, 67, 0.15);\n",
              "      fill: #174EA6;\n",
              "    }\n",
              "\n",
              "    [theme=dark] .colab-df-convert {\n",
              "      background-color: #3B4455;\n",
              "      fill: #D2E3FC;\n",
              "    }\n",
              "\n",
              "    [theme=dark] .colab-df-convert:hover {\n",
              "      background-color: #434B5C;\n",
              "      box-shadow: 0px 1px 3px 1px rgba(0, 0, 0, 0.15);\n",
              "      filter: drop-shadow(0px 1px 2px rgba(0, 0, 0, 0.3));\n",
              "      fill: #FFFFFF;\n",
              "    }\n",
              "  </style>\n",
              "\n",
              "      <script>\n",
              "        const buttonEl =\n",
              "          document.querySelector('#df-166cfd17-80de-4f60-b160-2a9e81d51a23 button.colab-df-convert');\n",
              "        buttonEl.style.display =\n",
              "          google.colab.kernel.accessAllowed ? 'block' : 'none';\n",
              "\n",
              "        async function convertToInteractive(key) {\n",
              "          const element = document.querySelector('#df-166cfd17-80de-4f60-b160-2a9e81d51a23');\n",
              "          const dataTable =\n",
              "            await google.colab.kernel.invokeFunction('convertToInteractive',\n",
              "                                                     [key], {});\n",
              "          if (!dataTable) return;\n",
              "\n",
              "          const docLinkHtml = 'Like what you see? Visit the ' +\n",
              "            '<a target=\"_blank\" href=https://colab.research.google.com/notebooks/data_table.ipynb>data table notebook</a>'\n",
              "            + ' to learn more about interactive tables.';\n",
              "          element.innerHTML = '';\n",
              "          dataTable['output_type'] = 'display_data';\n",
              "          await google.colab.output.renderOutput(dataTable, element);\n",
              "          const docLink = document.createElement('div');\n",
              "          docLink.innerHTML = docLinkHtml;\n",
              "          element.appendChild(docLink);\n",
              "        }\n",
              "      </script>\n",
              "    </div>\n",
              "  </div>\n",
              "  "
            ]
          },
          "metadata": {},
          "execution_count": 38
        }
      ]
    },
    {
      "cell_type": "code",
      "source": [],
      "metadata": {
        "id": "OWa6SQPDwVYd"
      },
      "execution_count": null,
      "outputs": []
    },
    {
      "cell_type": "code",
      "source": [
        "data.plot(figsize=(10, 7))\n",
        "\n",
        "# Show the legend\n",
        "plt.legend()\n",
        "\n",
        "# Define the label for the title of the figure\n",
        "plt.title(\"Adjusted Close Price\", fontsize=16)\n",
        "\n",
        "# Define the labels for x-axis and y-axis\n",
        "plt.ylabel('Price', fontsize=14)\n",
        "plt.xlabel('Year', fontsize=14)\n",
        "\n",
        "# Plot the grid lines\n",
        "plt.grid(which=\"major\", color='k', linestyle='-.', linewidth=0.5)\n",
        "plt.show()"
      ],
      "metadata": {
        "colab": {
          "base_uri": "https://localhost:8080/",
          "height": 443
        },
        "id": "3LNjAqvSAkKJ",
        "outputId": "16840eed-337d-4bc8-d82b-18378446e809"
      },
      "execution_count": 39,
      "outputs": [
        {
          "output_type": "display_data",
          "data": {
            "text/plain": [
              "<Figure size 720x504 with 1 Axes>"
            ],
            "image/png": "[encoded data removed]"
          },
          "metadata": {}
        }
      ]
    },
    {
      "cell_type": "code",
      "source": [
        "#show the return \n",
        "returns=data.pct_change()\n",
        "returns"
      ],
      "metadata": {
        "colab": {
          "base_uri": "https://localhost:8080/",
          "height": 455
        },
        "id": "ry4d6i8NwWxT",
        "outputId": "eba5bcdb-d333-492d-a7c8-ac1fa37fef34"
      },
      "execution_count": 40,
      "outputs": [
        {
          "output_type": "execute_result",
          "data": {
            "text/plain": [
              "                AAPL       IBM      MSFT       WMT\n",
              "Date                                              \n",
              "2013-01-02       NaN       NaN       NaN       NaN\n",
              "2013-01-03 -0.012622 -0.005500 -0.013396 -0.006355\n",
              "2013-01-04 -0.027854 -0.006555 -0.018716  0.003779\n",
              "2013-01-07 -0.005883 -0.004381 -0.001870 -0.009557\n",
              "2013-01-08  0.002691 -0.001398 -0.005245  0.002778\n",
              "...              ...       ...       ...       ...\n",
              "2022-12-20 -0.000529  0.017354  0.005614  0.008754\n",
              "2022-12-21  0.023809  0.006087  0.010877  0.007844\n",
              "2022-12-22 -0.023773 -0.008864 -0.025529 -0.011710\n",
              "2022-12-23 -0.002798  0.005466  0.002267  0.002021\n",
              "2022-12-27 -0.013878  0.005436 -0.007414  0.000278\n",
              "\n",
              "[2515 rows x 4 columns]"
            ],
            "text/html": [
              "\n",
              "  <div id=\"df-8bb50283-9c2e-4846-be12-c9ffd4978f3d\">\n",
              "    <div class=\"colab-df-container\">\n",
              "      <div>\n",
              "<style scoped>\n",
              "    .dataframe tbody tr th:only-of-type {\n",
              "        vertical-align: middle;\n",
              "    }\n",
              "\n",
              "    .dataframe tbody tr th {\n",
              "        vertical-align: top;\n",
              "    }\n",
              "\n",
              "    .dataframe thead th {\n",
              "        text-align: right;\n",
              "    }\n",
              "</style>\n",
              "<table border=\"1\" class=\"dataframe\">\n",
              "  <thead>\n",
              "    <tr style=\"text-align: right;\">\n",
              "      <th></th>\n",
              "      <th>AAPL</th>\n",
              "      <th>IBM</th>\n",
              "      <th>MSFT</th>\n",
              "      <th>WMT</th>\n",
              "    </tr>\n",
              "    <tr>\n",
              "      <th>Date</th>\n",
              "      <th></th>\n",
              "      <th></th>\n",
              "      <th></th>\n",
              "      <th></th>\n",
              "    </tr>\n",
              "  </thead>\n",
              "  <tbody>\n",
              "    <tr>\n",
              "      <th>2013-01-02</th>\n",
              "      <td>NaN</td>\n",
              "      <td>NaN</td>\n",
              "      <td>NaN</td>\n",
              "      <td>NaN</td>\n",
              "    </tr>\n",
              "    <tr>\n",
              "      <th>2013-01-03</th>\n",
              "      <td>-0.012622</td>\n",
              "      <td>-0.005500</td>\n",
              "      <td>-0.013396</td>\n",
              "      <td>-0.006355</td>\n",
              "    </tr>\n",
              "    <tr>\n",
              "      <th>2013-01-04</th>\n",
              "      <td>-0.027854</td>\n",
              "      <td>-0.006555</td>\n",
              "      <td>-0.018716</td>\n",
              "      <td>0.003779</td>\n",
              "    </tr>\n",
              "    <tr>\n",
              "      <th>2013-01-07</th>\n",
              "      <td>-0.005883</td>\n",
              "      <td>-0.004381</td>\n",
              "      <td>-0.001870</td>\n",
              "      <td>-0.009557</td>\n",
              "    </tr>\n",
              "    <tr>\n",
              "      <th>2013-01-08</th>\n",
              "      <td>0.002691</td>\n",
              "      <td>-0.001398</td>\n",
              "      <td>-0.005245</td>\n",
              "      <td>0.002778</td>\n",
              "    </tr>\n",
              "    <tr>\n",
              "      <th>...</th>\n",
              "      <td>...</td>\n",
              "      <td>...</td>\n",
              "      <td>...</td>\n",
              "      <td>...</td>\n",
              "    </tr>\n",
              "    <tr>\n",
              "      <th>2022-12-20</th>\n",
              "      <td>-0.000529</td>\n",
              "      <td>0.017354</td>\n",
              "      <td>0.005614</td>\n",
              "      <td>0.008754</td>\n",
              "    </tr>\n",
              "    <tr>\n",
              "      <th>2022-12-21</th>\n",
              "      <td>0.023809</td>\n",
              "      <td>0.006087</td>\n",
              "      <td>0.010877</td>\n",
              "      <td>0.007844</td>\n",
              "    </tr>\n",
              "    <tr>\n",
              "      <th>2022-12-22</th>\n",
              "      <td>-0.023773</td>\n",
              "      <td>-0.008864</td>\n",
              "      <td>-0.025529</td>\n",
              "      <td>-0.011710</td>\n",
              "    </tr>\n",
              "    <tr>\n",
              "      <th>2022-12-23</th>\n",
              "      <td>-0.002798</td>\n",
              "      <td>0.005466</td>\n",
              "      <td>0.002267</td>\n",
              "      <td>0.002021</td>\n",
              "    </tr>\n",
              "    <tr>\n",
              "      <th>2022-12-27</th>\n",
              "      <td>-0.013878</td>\n",
              "      <td>0.005436</td>\n",
              "      <td>-0.007414</td>\n",
              "      <td>0.000278</td>\n",
              "    </tr>\n",
              "  </tbody>\n",
              "</table>\n",
              "<p>2515 rows × 4 columns</p>\n",
              "</div>\n",
              "      <button class=\"colab-df-convert\" onclick=\"convertToInteractive('df-8bb50283-9c2e-4846-be12-c9ffd4978f3d')\"\n",
              "              title=\"Convert this dataframe to an interactive table.\"\n",
              "              style=\"display:none;\">\n",
              "        \n",
              "  <svg xmlns=\"http://www.w3.org/2000/svg\" height=\"24px\"viewBox=\"0 0 24 24\"\n",
              "       width=\"24px\">\n",
              "    <path d=\"M0 0h24v24H0V0z\" fill=\"none\"/>\n",
              "    <path d=\"M18.56 5.44l.94 2.06.94-2.06 2.06-.94-2.06-.94-.94-2.06-.94 2.06-2.06.94zm-11 1L8.5 8.5l.94-2.06 2.06-.94-2.06-.94L8.5 2.5l-.94 2.06-2.06.94zm10 10l.94 2.06.94-2.06 2.06-.94-2.06-.94-.94-2.06-.94 2.06-2.06.94z\"/><path d=\"M17.41 7.96l-1.37-1.37c-.4-.4-.92-.59-1.43-.59-.52 0-1.04.2-1.43.59L10.3 9.45l-7.72 7.72c-.78.78-.78 2.05 0 2.83L4 21.41c.39.39.9.59 1.41.59.51 0 1.02-.2 1.41-.59l7.78-7.78 2.81-2.81c.8-.78.8-2.07 0-2.86zM5.41 20L4 18.59l7.72-7.72 1.47 1.35L5.41 20z\"/>\n",
              "  </svg>\n",
              "      </button>\n",
              "      \n",
              "  <style>\n",
              "    .colab-df-container {\n",
              "      display:flex;\n",
              "      flex-wrap:wrap;\n",
              "      gap: 12px;\n",
              "    }\n",
              "\n",
              "    .colab-df-convert {\n",
              "      background-color: #E8F0FE;\n",
              "      border: none;\n",
              "      border-radius: 50%;\n",
              "      cursor: pointer;\n",
              "      display: none;\n",
              "      fill: #1967D2;\n",
              "      height: 32px;\n",
              "      padding: 0 0 0 0;\n",
              "      width: 32px;\n",
              "    }\n",
              "\n",
              "    .colab-df-convert:hover {\n",
              "      background-color: #E2EBFA;\n",
              "      box-shadow: 0px 1px 2px rgba(60, 64, 67, 0.3), 0px 1px 3px 1px rgba(60, 64, 67, 0.15);\n",
              "      fill: #174EA6;\n",
              "    }\n",
              "\n",
              "    [theme=dark] .colab-df-convert {\n",
              "      background-color: #3B4455;\n",
              "      fill: #D2E3FC;\n",
              "    }\n",
              "\n",
              "    [theme=dark] .colab-df-convert:hover {\n",
              "      background-color: #434B5C;\n",
              "      box-shadow: 0px 1px 3px 1px rgba(0, 0, 0, 0.15);\n",
              "      filter: drop-shadow(0px 1px 2px rgba(0, 0, 0, 0.3));\n",
              "      fill: #FFFFFF;\n",
              "    }\n",
              "  </style>\n",
              "\n",
              "      <script>\n",
              "        const buttonEl =\n",
              "          document.querySelector('#df-8bb50283-9c2e-4846-be12-c9ffd4978f3d button.colab-df-convert');\n",
              "        buttonEl.style.display =\n",
              "          google.colab.kernel.accessAllowed ? 'block' : 'none';\n",
              "\n",
              "        async function convertToInteractive(key) {\n",
              "          const element = document.querySelector('#df-8bb50283-9c2e-4846-be12-c9ffd4978f3d');\n",
              "          const dataTable =\n",
              "            await google.colab.kernel.invokeFunction('convertToInteractive',\n",
              "                                                     [key], {});\n",
              "          if (!dataTable) return;\n",
              "\n",
              "          const docLinkHtml = 'Like what you see? Visit the ' +\n",
              "            '<a target=\"_blank\" href=https://colab.research.google.com/notebooks/data_table.ipynb>data table notebook</a>'\n",
              "            + ' to learn more about interactive tables.';\n",
              "          element.innerHTML = '';\n",
              "          dataTable['output_type'] = 'display_data';\n",
              "          await google.colab.output.renderOutput(dataTable, element);\n",
              "          const docLink = document.createElement('div');\n",
              "          docLink.innerHTML = docLinkHtml;\n",
              "          element.appendChild(docLink);\n",
              "        }\n",
              "      </script>\n",
              "    </div>\n",
              "  </div>\n",
              "  "
            ]
          },
          "metadata": {},
          "execution_count": 40
        }
      ]
    },
    {
      "cell_type": "code",
      "source": [
        "#create and show the annualise covariance matrix\n",
        "cov_matrix_annual= returns.cov()* 252\n",
        "cov_matrix_annual"
      ],
      "metadata": {
        "colab": {
          "base_uri": "https://localhost:8080/",
          "height": 175
        },
        "id": "B3CR2pe6xFtr",
        "outputId": "444516be-77eb-4d6d-f082-a6876739c172"
      },
      "execution_count": 41,
      "outputs": [
        {
          "output_type": "execute_result",
          "data": {
            "text/plain": [
              "          AAPL       IBM      MSFT       WMT\n",
              "AAPL  0.084389  0.026916  0.049279  0.018609\n",
              "IBM   0.026916  0.055137  0.028835  0.014523\n",
              "MSFT  0.049279  0.028835  0.073084  0.019602\n",
              "WMT   0.018609  0.014523  0.019602  0.042240"
            ],
            "text/html": [
              "\n",
              "  <div id=\"df-0cc68608-7c4c-4968-b3b2-a3a852c794c9\">\n",
              "    <div class=\"colab-df-container\">\n",
              "      <div>\n",
              "<style scoped>\n",
              "    .dataframe tbody tr th:only-of-type {\n",
              "        vertical-align: middle;\n",
              "    }\n",
              "\n",
              "    .dataframe tbody tr th {\n",
              "        vertical-align: top;\n",
              "    }\n",
              "\n",
              "    .dataframe thead th {\n",
              "        text-align: right;\n",
              "    }\n",
              "</style>\n",
              "<table border=\"1\" class=\"dataframe\">\n",
              "  <thead>\n",
              "    <tr style=\"text-align: right;\">\n",
              "      <th></th>\n",
              "      <th>AAPL</th>\n",
              "      <th>IBM</th>\n",
              "      <th>MSFT</th>\n",
              "      <th>WMT</th>\n",
              "    </tr>\n",
              "  </thead>\n",
              "  <tbody>\n",
              "    <tr>\n",
              "      <th>AAPL</th>\n",
              "      <td>0.084389</td>\n",
              "      <td>0.026916</td>\n",
              "      <td>0.049279</td>\n",
              "      <td>0.018609</td>\n",
              "    </tr>\n",
              "    <tr>\n",
              "      <th>IBM</th>\n",
              "      <td>0.026916</td>\n",
              "      <td>0.055137</td>\n",
              "      <td>0.028835</td>\n",
              "      <td>0.014523</td>\n",
              "    </tr>\n",
              "    <tr>\n",
              "      <th>MSFT</th>\n",
              "      <td>0.049279</td>\n",
              "      <td>0.028835</td>\n",
              "      <td>0.073084</td>\n",
              "      <td>0.019602</td>\n",
              "    </tr>\n",
              "    <tr>\n",
              "      <th>WMT</th>\n",
              "      <td>0.018609</td>\n",
              "      <td>0.014523</td>\n",
              "      <td>0.019602</td>\n",
              "      <td>0.042240</td>\n",
              "    </tr>\n",
              "  </tbody>\n",
              "</table>\n",
              "</div>\n",
              "      <button class=\"colab-df-convert\" onclick=\"convertToInteractive('df-0cc68608-7c4c-4968-b3b2-a3a852c794c9')\"\n",
              "              title=\"Convert this dataframe to an interactive table.\"\n",
              "              style=\"display:none;\">\n",
              "        \n",
              "  <svg xmlns=\"http://www.w3.org/2000/svg\" height=\"24px\"viewBox=\"0 0 24 24\"\n",
              "       width=\"24px\">\n",
              "    <path d=\"M0 0h24v24H0V0z\" fill=\"none\"/>\n",
              "    <path d=\"M18.56 5.44l.94 2.06.94-2.06 2.06-.94-2.06-.94-.94-2.06-.94 2.06-2.06.94zm-11 1L8.5 8.5l.94-2.06 2.06-.94-2.06-.94L8.5 2.5l-.94 2.06-2.06.94zm10 10l.94 2.06.94-2.06 2.06-.94-2.06-.94-.94-2.06-.94 2.06-2.06.94z\"/><path d=\"M17.41 7.96l-1.37-1.37c-.4-.4-.92-.59-1.43-.59-.52 0-1.04.2-1.43.59L10.3 9.45l-7.72 7.72c-.78.78-.78 2.05 0 2.83L4 21.41c.39.39.9.59 1.41.59.51 0 1.02-.2 1.41-.59l7.78-7.78 2.81-2.81c.8-.78.8-2.07 0-2.86zM5.41 20L4 18.59l7.72-7.72 1.47 1.35L5.41 20z\"/>\n",
              "  </svg>\n",
              "      </button>\n",
              "      \n",
              "  <style>\n",
              "    .colab-df-container {\n",
              "      display:flex;\n",
              "      flex-wrap:wrap;\n",
              "      gap: 12px;\n",
              "    }\n",
              "\n",
              "    .colab-df-convert {\n",
              "      background-color: #E8F0FE;\n",
              "      border: none;\n",
              "      border-radius: 50%;\n",
              "      cursor: pointer;\n",
              "      display: none;\n",
              "      fill: #1967D2;\n",
              "      height: 32px;\n",
              "      padding: 0 0 0 0;\n",
              "      width: 32px;\n",
              "    }\n",
              "\n",
              "    .colab-df-convert:hover {\n",
              "      background-color: #E2EBFA;\n",
              "      box-shadow: 0px 1px 2px rgba(60, 64, 67, 0.3), 0px 1px 3px 1px rgba(60, 64, 67, 0.15);\n",
              "      fill: #174EA6;\n",
              "    }\n",
              "\n",
              "    [theme=dark] .colab-df-convert {\n",
              "      background-color: #3B4455;\n",
              "      fill: #D2E3FC;\n",
              "    }\n",
              "\n",
              "    [theme=dark] .colab-df-convert:hover {\n",
              "      background-color: #434B5C;\n",
              "      box-shadow: 0px 1px 3px 1px rgba(0, 0, 0, 0.15);\n",
              "      filter: drop-shadow(0px 1px 2px rgba(0, 0, 0, 0.3));\n",
              "      fill: #FFFFFF;\n",
              "    }\n",
              "  </style>\n",
              "\n",
              "      <script>\n",
              "        const buttonEl =\n",
              "          document.querySelector('#df-0cc68608-7c4c-4968-b3b2-a3a852c794c9 button.colab-df-convert');\n",
              "        buttonEl.style.display =\n",
              "          google.colab.kernel.accessAllowed ? 'block' : 'none';\n",
              "\n",
              "        async function convertToInteractive(key) {\n",
              "          const element = document.querySelector('#df-0cc68608-7c4c-4968-b3b2-a3a852c794c9');\n",
              "          const dataTable =\n",
              "            await google.colab.kernel.invokeFunction('convertToInteractive',\n",
              "                                                     [key], {});\n",
              "          if (!dataTable) return;\n",
              "\n",
              "          const docLinkHtml = 'Like what you see? Visit the ' +\n",
              "            '<a target=\"_blank\" href=https://colab.research.google.com/notebooks/data_table.ipynb>data table notebook</a>'\n",
              "            + ' to learn more about interactive tables.';\n",
              "          element.innerHTML = '';\n",
              "          dataTable['output_type'] = 'display_data';\n",
              "          await google.colab.output.renderOutput(dataTable, element);\n",
              "          const docLink = document.createElement('div');\n",
              "          docLink.innerHTML = docLinkHtml;\n",
              "          element.appendChild(docLink);\n",
              "        }\n",
              "      </script>\n",
              "    </div>\n",
              "  </div>\n",
              "  "
            ]
          },
          "metadata": {},
          "execution_count": 41
        }
      ]
    },
    {
      "cell_type": "code",
      "source": [
        "#calculate the portfolio variance\n",
        "import numpy as np\n",
        "p=np.dot(cov_matrix_annual,weights)\n",
        "port_variance = np.dot(weights.T,p)\n",
        "port_variance"
      ],
      "metadata": {
        "colab": {
          "base_uri": "https://localhost:8080/"
        },
        "id": "RXoLWDD5xxHS",
        "outputId": "a9fb8ad2-af86-4ae4-ff52-cdf9436bce86"
      },
      "execution_count": 54,
      "outputs": [
        {
          "output_type": "execute_result",
          "data": {
            "text/plain": [
              "0.03564858465647487"
            ]
          },
          "metadata": {},
          "execution_count": 54
        }
      ]
    },
    {
      "cell_type": "code",
      "source": [
        "#calculate portfolio votalility a.k.a standard variance\n",
        "port_volatility= np.sqrt(port_variance)\n",
        "port_volatility"
      ],
      "metadata": {
        "colab": {
          "base_uri": "https://localhost:8080/"
        },
        "id": "tV7cqC_Y1A_E",
        "outputId": "c1be7599-84d3-44e5-ce2b-10b724e73e12"
      },
      "execution_count": 56,
      "outputs": [
        {
          "output_type": "execute_result",
          "data": {
            "text/plain": [
              "0.1888083278260651"
            ]
          },
          "metadata": {},
          "execution_count": 56
        }
      ]
    },
    {
      "cell_type": "code",
      "source": [
        "portfolioSimpleannualReturn=np.sum(returns.mean()*weights)*252\n",
        "portfolioSimpleannualReturn"
      ],
      "metadata": {
        "colab": {
          "base_uri": "https://localhost:8080/"
        },
        "id": "DEDa_vn_25Wx",
        "outputId": "5cf094f8-31ef-48fa-b6e4-33892afb23e2"
      },
      "execution_count": 57,
      "outputs": [
        {
          "output_type": "execute_result",
          "data": {
            "text/plain": [
              "0.16859650008306326"
            ]
          },
          "metadata": {},
          "execution_count": 57
        }
      ]
    },
    {
      "cell_type": "code",
      "source": [
        "percent_var=str(round(port_variance,2)*100)+'%'\n",
        "percent_vols=str(round(port_volatility,2)*100)+'%'\n",
        "percent_ret=str(round(portfolioSimpleannualReturn,2)*100)+'%'\n",
        "print('Expected annual return:'+percent_var)\n",
        "print('Expected votality / Risk:'+percent_vols)\n",
        "print('Expected variance:'+percent_ret)"
      ],
      "metadata": {
        "colab": {
          "base_uri": "https://localhost:8080/"
        },
        "id": "mKlzSxOO3fJ3",
        "outputId": "32bcf563-7e50-4f96-b8c9-38a6a79ffbff"
      },
      "execution_count": 60,
      "outputs": [
        {
          "output_type": "stream",
          "name": "stdout",
          "text": [
            "Expected annual return:4.0%\n",
            "Expected votality / Risk:19.0%\n",
            "Expected variance:17.0%\n"
          ]
        }
      ]
    },
    {
      "cell_type": "code",
      "source": [
        "pip install PyPortfolioOpt"
      ],
      "metadata": {
        "colab": {
          "base_uri": "https://localhost:8080/",
          "height": 538
        },
        "id": "biEziQox3drt",
        "outputId": "90245c22-2030-4f10-a27a-e527f2b79ce8"
      },
      "execution_count": 61,
      "outputs": [
        {
          "output_type": "stream",
          "name": "stdout",
          "text": [
            "Looking in indexes: https://pypi.org/simple, https://us-python.pkg.dev/colab-wheels/public/simple/\n",
            "Collecting PyPortfolioOpt\n",
            "  Downloading pyportfolioopt-1.5.4-py3-none-any.whl (61 kB)\n",
            "\u001b[K     |████████████████████████████████| 61 kB 392 kB/s \n",
            "\u001b[?25hRequirement already satisfied: scipy<2.0,>=1.3 in /usr/local/lib/python3.8/dist-packages (from PyPortfolioOpt) (1.7.3)\n",
            "Collecting numpy<2.0.0,>=1.22.4\n",
            "  Downloading numpy-1.24.1-cp38-cp38-manylinux_2_17_x86_64.manylinux2014_x86_64.whl (17.3 MB)\n",
            "\u001b[K     |████████████████████████████████| 17.3 MB 681 kB/s \n",
            "\u001b[?25hRequirement already satisfied: cvxpy<2.0.0,>=1.1.10 in /usr/local/lib/python3.8/dist-packages (from PyPortfolioOpt) (1.2.2)\n",
            "Requirement already satisfied: pandas>=0.19 in /usr/local/lib/python3.8/dist-packages (from PyPortfolioOpt) (1.3.5)\n",
            "Requirement already satisfied: scs>=1.1.6 in /usr/local/lib/python3.8/dist-packages (from cvxpy<2.0.0,>=1.1.10->PyPortfolioOpt) (3.2.2)\n",
            "Requirement already satisfied: osqp>=0.4.1 in /usr/local/lib/python3.8/dist-packages (from cvxpy<2.0.0,>=1.1.10->PyPortfolioOpt) (0.6.2.post0)\n",
            "Requirement already satisfied: ecos>=2 in /usr/local/lib/python3.8/dist-packages (from cvxpy<2.0.0,>=1.1.10->PyPortfolioOpt) (2.0.10)\n",
            "Requirement already satisfied: qdldl in /usr/local/lib/python3.8/dist-packages (from osqp>=0.4.1->cvxpy<2.0.0,>=1.1.10->PyPortfolioOpt) (0.1.5.post2)\n",
            "Requirement already satisfied: pytz>=2017.3 in /usr/local/lib/python3.8/dist-packages (from pandas>=0.19->PyPortfolioOpt) (2022.6)\n",
            "Requirement already satisfied: python-dateutil>=2.7.3 in /usr/local/lib/python3.8/dist-packages (from pandas>=0.19->PyPortfolioOpt) (2.8.2)\n",
            "Requirement already satisfied: six>=1.5 in /usr/local/lib/python3.8/dist-packages (from python-dateutil>=2.7.3->pandas>=0.19->PyPortfolioOpt) (1.15.0)\n",
            "  Downloading numpy-1.22.4-cp38-cp38-manylinux_2_17_x86_64.manylinux2014_x86_64.whl (16.9 MB)\n",
            "\u001b[K     |████████████████████████████████| 16.9 MB 59.7 MB/s \n",
            "\u001b[?25hInstalling collected packages: numpy, PyPortfolioOpt\n",
            "  Attempting uninstall: numpy\n",
            "    Found existing installation: numpy 1.21.6\n",
            "    Uninstalling numpy-1.21.6:\n",
            "      Successfully uninstalled numpy-1.21.6\n",
            "Successfully installed PyPortfolioOpt-1.5.4 numpy-1.22.4\n"
          ]
        },
        {
          "output_type": "display_data",
          "data": {
            "application/vnd.colab-display-data+json": {
              "pip_warning": {
                "packages": [
                  "numpy"
                ]
              }
            }
          },
          "metadata": {}
        }
      ]
    },
    {
      "cell_type": "code",
      "source": [
        "from pypfopt.efficient_frontier import efficient_frontier\n",
        "from pypfopt import risk_models\n",
        "from pypfopt import expected_returns"
      ],
      "metadata": {
        "id": "TlEYwh3G6c2R"
      },
      "execution_count": 63,
      "outputs": []
    },
    {
      "cell_type": "code",
      "source": [
        "from pypfopt.efficient_frontier.efficient_semivariance import EfficientFrontier\n",
        "#portfolio Optimization\n",
        "#calculate the expexted return\n",
        "mu=expected_returns.mean_historical_return(data)\n",
        "S=risk_models.sample_cov(data)\n",
        "\n",
        "#optimize for max sharp ratio\n",
        "ef=EfficientFrontier(mu, S)\n",
        "weights= ef.max_sharpe()\n",
        "cleaned_weights= ef.clean_weights()\n",
        "print(cleaned_weights)\n",
        "ef.portfolio_performance(verbose= True)\n",
        "\n"
      ],
      "metadata": {
        "colab": {
          "base_uri": "https://localhost:8080/"
        },
        "id": "snMVBSVq9k2p",
        "outputId": "cde26bed-38d7-46bc-8eee-09670e8f5619"
      },
      "execution_count": 69,
      "outputs": [
        {
          "output_type": "stream",
          "name": "stdout",
          "text": [
            "OrderedDict([('AAPL', 0.20907), ('IBM', 0.0), ('MSFT', 0.7177), ('WMT', 0.07323)])\n",
            "Expected annual return: 24.5%\n",
            "Annual volatility: 24.3%\n",
            "Sharpe Ratio: 0.93\n"
          ]
        },
        {
          "output_type": "execute_result",
          "data": {
            "text/plain": [
              "(0.2447737736414217, 0.24285608113388354, 0.9255431142261853)"
            ]
          },
          "metadata": {},
          "execution_count": 69
        }
      ]
    },
    {
      "cell_type": "code",
      "source": [
        "#get the discrete allocation of each share per stock\n",
        "from pypfopt.discrete_allocation import DiscreteAllocation, get_latest_prices\n",
        "\n",
        "latest_prices=get_latest_prices(data)\n",
        "weights= cleaned_weights\n",
        "da=DiscreteAllocation(weights,latest_prices,total_portfolio_value= 1500)\n",
        "allocation, leftover=da.lp_portfolio()\n",
        "print('Discrete allocation:',allocation)\n",
        "print('Funds remaining: ${:.2f}'.format(leftover))"
      ],
      "metadata": {
        "colab": {
          "base_uri": "https://localhost:8080/"
        },
        "id": "iPqgjPncBRt6",
        "outputId": "b3942d60-1bce-4919-895d-f80a0f230a6d"
      },
      "execution_count": 76,
      "outputs": [
        {
          "output_type": "stream",
          "name": "stdout",
          "text": [
            "Discrete allocation: {'IBM': 1, 'MSFT': 5, 'WMT': 1}\n",
            "Funds remaining: $28.97\n"
          ]
        }
      ]
    }
  ]
}