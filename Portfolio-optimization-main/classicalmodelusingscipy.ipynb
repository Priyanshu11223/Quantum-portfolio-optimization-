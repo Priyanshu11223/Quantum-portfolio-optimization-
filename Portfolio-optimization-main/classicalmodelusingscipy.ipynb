{
  "nbformat": 4,
  "nbformat_minor": 0,
  "metadata": {
    "colab": {
      "provenance": [],
      "include_colab_link": true
    },
    "kernelspec": {
      "name": "python3",
      "display_name": "Python 3"
    },
    "language_info": {
      "name": "python"
    }
  },
  "cells": [
    {
      "cell_type": "markdown",
      "metadata": {
        "id": "view-in-github",
        "colab_type": "text"
      },
      "source": [
        "<a href=\"https://colab.research.google.com/github/nk8125/Portfolio-optimization/blob/main/classicalmodelusingscipy.ipynb\" target=\"_parent\"><img src=\"https://colab.research.google.com/assets/colab-badge.svg\" alt=\"Open In Colab\"/></a>"
      ]
    },
    {
      "cell_type": "code",
      "execution_count": 2,
      "metadata": {
        "id": "jwx8TlKcsyuO"
      },
      "outputs": [],
      "source": [
        "#Description:This program attempts to optimize a users portfolio using the Scipy"
      ]
    },
    {
      "cell_type": "markdown",
      "source": [
        "1. Make my code robust for any given inputs it should work.\n",
        "2. Plot a pie chart of allocations.\n",
        "3. Find another method to calculate returns.\n",
        "4. Find five more objective functions for portfolio optimization function execpt max return and min volatility."
      ],
      "metadata": {
        "id": "Sn31uPUq3rMs"
      }
    },
    {
      "cell_type": "code",
      "source": [
        "#import libaries\n",
        "from pandas_datareader  import data as web\n",
        "import pandas as pd\n",
        "import numpy as np\n",
        "from datetime import datetime\n",
        "import matplotlib.pyplot as plt\n",
        "\n",
        "plt.style.use('fivethirtyeight')"
      ],
      "metadata": {
        "id": "VRVgK-s-tLTD"
      },
      "execution_count": 3,
      "outputs": []
    },
    {
      "cell_type": "code",
      "source": [
        "#Get the stock symbols/tickers in the portfolio\n",
        "#FAANG\n",
        "assets = ['AAPL', 'MSFT', 'WMT','PG','AMZN','NVDA','AMD']"
      ],
      "metadata": {
        "id": "_np1RO5auHuS"
      },
      "execution_count": 4,
      "outputs": []
    },
    {
      "cell_type": "code",
      "source": [
        "number_of_symbols=len(assets)\n",
        "number_of_symbols"
      ],
      "metadata": {
        "colab": {
          "base_uri": "https://localhost:8080/"
        },
        "id": "v29xPtgJYO1a",
        "outputId": "fbd8ade5-d275-4210-fad4-ea2d377de4f9"
      },
      "execution_count": 5,
      "outputs": [
        {
          "output_type": "execute_result",
          "data": {
            "text/plain": [
              "7"
            ]
          },
          "metadata": {},
          "execution_count": 5
        }
      ]
    },
    {
      "cell_type": "code",
      "source": [
        "#Assign weight to the stocks \n",
        "import random\n",
        "n = number_of_symbols\n",
        "weights = [random.random() for _ in range(n)]\n",
        "sum_weights = sum(weights)\n",
        "weights = [1*w/sum_weights for w in weights]\n",
        "print(weights)"
      ],
      "metadata": {
        "colab": {
          "base_uri": "https://localhost:8080/"
        },
        "id": "M7IiV7PtBULa",
        "outputId": "77286195-72f7-4447-b723-e6e2e871471e"
      },
      "execution_count": 6,
      "outputs": [
        {
          "output_type": "stream",
          "name": "stdout",
          "text": [
            "[0.13355793781827582, 0.04407137824022909, 0.11877626710942624, 0.3232870626943047, 0.05565142053443954, 0.14285717483949878, 0.1817987587638259]\n"
          ]
        }
      ]
    },
    {
      "cell_type": "code",
      "source": [
        "!pip install yfinance"
      ],
      "metadata": {
        "colab": {
          "base_uri": "https://localhost:8080/",
          "height": 971
        },
        "id": "v3dqB-_e-6nv",
        "outputId": "dcb8c201-edd2-4f42-d9db-1ab98b5e2f5d"
      },
      "execution_count": 7,
      "outputs": [
        {
          "output_type": "stream",
          "name": "stdout",
          "text": [
            "Looking in indexes: https://pypi.org/simple, https://us-python.pkg.dev/colab-wheels/public/simple/\n",
            "Collecting yfinance\n",
            "  Downloading yfinance-0.2.9-py2.py3-none-any.whl (55 kB)\n",
            "\u001b[2K     \u001b[90m━━━━━━━━━━━━━━━━━━━━━━━━━━━━━━━━━━━━━━━━\u001b[0m \u001b[32m55.9/55.9 KB\u001b[0m \u001b[31m2.0 MB/s\u001b[0m eta \u001b[36m0:00:00\u001b[0m\n",
            "\u001b[?25hCollecting beautifulsoup4>=4.11.1\n",
            "  Downloading beautifulsoup4-4.11.1-py3-none-any.whl (128 kB)\n",
            "\u001b[2K     \u001b[90m━━━━━━━━━━━━━━━━━━━━━━━━━━━━━━━━━━━━━━━\u001b[0m \u001b[32m128.2/128.2 KB\u001b[0m \u001b[31m8.0 MB/s\u001b[0m eta \u001b[36m0:00:00\u001b[0m\n",
            "\u001b[?25hRequirement already satisfied: numpy>=1.16.5 in /usr/local/lib/python3.8/dist-packages (from yfinance) (1.21.6)\n",
            "Requirement already satisfied: pandas>=1.3.0 in /usr/local/lib/python3.8/dist-packages (from yfinance) (1.3.5)\n",
            "Requirement already satisfied: lxml>=4.9.1 in /usr/local/lib/python3.8/dist-packages (from yfinance) (4.9.2)\n",
            "Requirement already satisfied: appdirs>=1.4.4 in /usr/local/lib/python3.8/dist-packages (from yfinance) (1.4.4)\n",
            "Collecting html5lib>=1.1\n",
            "  Downloading html5lib-1.1-py2.py3-none-any.whl (112 kB)\n",
            "\u001b[2K     \u001b[90m━━━━━━━━━━━━━━━━━━━━━━━━━━━━━━━━━━━━━━━\u001b[0m \u001b[32m112.2/112.2 KB\u001b[0m \u001b[31m9.1 MB/s\u001b[0m eta \u001b[36m0:00:00\u001b[0m\n",
            "\u001b[?25hCollecting requests>=2.26\n",
            "  Downloading requests-2.28.2-py3-none-any.whl (62 kB)\n",
            "\u001b[2K     \u001b[90m━━━━━━━━━━━━━━━━━━━━━━━━━━━━━━━━━━━━━━━━\u001b[0m \u001b[32m62.8/62.8 KB\u001b[0m \u001b[31m3.3 MB/s\u001b[0m eta \u001b[36m0:00:00\u001b[0m\n",
            "\u001b[?25hRequirement already satisfied: multitasking>=0.0.7 in /usr/local/lib/python3.8/dist-packages (from yfinance) (0.0.11)\n",
            "Collecting frozendict>=2.3.4\n",
            "  Downloading frozendict-2.3.4-cp38-cp38-manylinux_2_17_x86_64.manylinux2014_x86_64.whl (110 kB)\n",
            "\u001b[2K     \u001b[90m━━━━━━━━━━━━━━━━━━━━━━━━━━━━━━━━━━━━━━━\u001b[0m \u001b[32m111.0/111.0 KB\u001b[0m \u001b[31m6.5 MB/s\u001b[0m eta \u001b[36m0:00:00\u001b[0m\n",
            "\u001b[?25hRequirement already satisfied: pytz>=2022.5 in /usr/local/lib/python3.8/dist-packages (from yfinance) (2022.7)\n",
            "Collecting cryptography>=3.3.2\n",
            "  Downloading cryptography-39.0.0-cp36-abi3-manylinux_2_28_x86_64.whl (4.2 MB)\n",
            "\u001b[2K     \u001b[90m━━━━━━━━━━━━━━━━━━━━━━━━━━━━━━━━━━━━━━━━\u001b[0m \u001b[32m4.2/4.2 MB\u001b[0m \u001b[31m41.1 MB/s\u001b[0m eta \u001b[36m0:00:00\u001b[0m\n",
            "\u001b[?25hCollecting soupsieve>1.2\n",
            "  Downloading soupsieve-2.3.2.post1-py3-none-any.whl (37 kB)\n",
            "Requirement already satisfied: cffi>=1.12 in /usr/local/lib/python3.8/dist-packages (from cryptography>=3.3.2->yfinance) (1.15.1)\n",
            "Requirement already satisfied: six>=1.9 in /usr/local/lib/python3.8/dist-packages (from html5lib>=1.1->yfinance) (1.15.0)\n",
            "Requirement already satisfied: webencodings in /usr/local/lib/python3.8/dist-packages (from html5lib>=1.1->yfinance) (0.5.1)\n",
            "Requirement already satisfied: python-dateutil>=2.7.3 in /usr/local/lib/python3.8/dist-packages (from pandas>=1.3.0->yfinance) (2.8.2)\n",
            "Requirement already satisfied: urllib3<1.27,>=1.21.1 in /usr/local/lib/python3.8/dist-packages (from requests>=2.26->yfinance) (1.24.3)\n",
            "Requirement already satisfied: idna<4,>=2.5 in /usr/local/lib/python3.8/dist-packages (from requests>=2.26->yfinance) (2.10)\n",
            "Requirement already satisfied: certifi>=2017.4.17 in /usr/local/lib/python3.8/dist-packages (from requests>=2.26->yfinance) (2022.12.7)\n",
            "Requirement already satisfied: charset-normalizer<4,>=2 in /usr/local/lib/python3.8/dist-packages (from requests>=2.26->yfinance) (2.1.1)\n",
            "Requirement already satisfied: pycparser in /usr/local/lib/python3.8/dist-packages (from cffi>=1.12->cryptography>=3.3.2->yfinance) (2.21)\n",
            "Installing collected packages: soupsieve, requests, html5lib, frozendict, cryptography, beautifulsoup4, yfinance\n",
            "  Attempting uninstall: requests\n",
            "    Found existing installation: requests 2.25.1\n",
            "    Uninstalling requests-2.25.1:\n",
            "      Successfully uninstalled requests-2.25.1\n",
            "  Attempting uninstall: html5lib\n",
            "    Found existing installation: html5lib 1.0.1\n",
            "    Uninstalling html5lib-1.0.1:\n",
            "      Successfully uninstalled html5lib-1.0.1\n",
            "  Attempting uninstall: beautifulsoup4\n",
            "    Found existing installation: beautifulsoup4 4.6.3\n",
            "    Uninstalling beautifulsoup4-4.6.3:\n",
            "      Successfully uninstalled beautifulsoup4-4.6.3\n",
            "Successfully installed beautifulsoup4-4.11.1 cryptography-39.0.0 frozendict-2.3.4 html5lib-1.1 requests-2.28.2 soupsieve-2.3.2.post1 yfinance-0.2.9\n"
          ]
        },
        {
          "output_type": "display_data",
          "data": {
            "application/vnd.colab-display-data+json": {
              "pip_warning": {
                "packages": [
                  "requests"
                ]
              }
            }
          },
          "metadata": {}
        }
      ]
    },
    {
      "cell_type": "code",
      "source": [
        "import yfinance as yf\n",
        "import pandas as pd\n",
        "\n",
        "# Set the start and end date\n",
        "start_date = '2017-01-01'\n",
        "\n",
        "# Create placeholder for data\n",
        "data = pd.DataFrame(columns=assets)\n",
        "\n",
        "# Fetch the data\n",
        "for ticker in assets:\n",
        "    data[ticker] = yf.download(ticker, \n",
        "                               start_date)['Adj Close']\n",
        "data\n",
        "    "
      ],
      "metadata": {
        "colab": {
          "base_uri": "https://localhost:8080/",
          "height": 576
        },
        "id": "lepxfT6SnK8Q",
        "outputId": "27b59b8e-c451-4ed9-c386-a32d04c0749c"
      },
      "execution_count": 8,
      "outputs": [
        {
          "output_type": "stream",
          "name": "stdout",
          "text": [
            "[*********************100%***********************]  1 of 1 completed\n",
            "[*********************100%***********************]  1 of 1 completed\n",
            "[*********************100%***********************]  1 of 1 completed\n",
            "[*********************100%***********************]  1 of 1 completed\n",
            "[*********************100%***********************]  1 of 1 completed\n",
            "[*********************100%***********************]  1 of 1 completed\n",
            "[*********************100%***********************]  1 of 1 completed\n"
          ]
        },
        {
          "output_type": "execute_result",
          "data": {
            "text/plain": [
              "                                 AAPL        MSFT         WMT          PG  \\\n",
              "Date                                                                        \n",
              "2017-01-03 00:00:00-05:00   27.174755   57.645378   61.081329   70.810143   \n",
              "2017-01-04 00:00:00-05:00   27.144341   57.387440   61.437172   71.062454   \n",
              "2017-01-05 00:00:00-05:00   27.282377   57.387440   61.570629   71.533401   \n",
              "2017-01-06 00:00:00-05:00   27.586531   57.884865   60.725498   71.508171   \n",
              "2017-01-09 00:00:00-05:00   27.839205   57.700626   61.125801   70.978355   \n",
              "...                               ...         ...         ...         ...   \n",
              "2023-01-24 00:00:00-05:00  142.529999  242.039993  143.020004  141.820007   \n",
              "2023-01-25 00:00:00-05:00  141.860001  240.610001  142.339996  141.720001   \n",
              "2023-01-26 00:00:00-05:00  143.960007  248.000000  142.210007  141.149994   \n",
              "2023-01-27 00:00:00-05:00  145.929993  248.160004  143.300003  140.570007   \n",
              "2023-01-30 00:00:00-05:00  143.000000  242.710007  142.149994  141.009995   \n",
              "\n",
              "                                 AMZN        NVDA        AMD  \n",
              "Date                                                          \n",
              "2017-01-03 00:00:00-05:00   37.683498   25.147223  11.430000  \n",
              "2017-01-04 00:00:00-05:00   37.859001   25.733934  11.430000  \n",
              "2017-01-05 00:00:00-05:00   39.022499   25.080660  11.240000  \n",
              "2017-01-06 00:00:00-05:00   39.799500   25.415926  11.320000  \n",
              "2017-01-09 00:00:00-05:00   39.846001   26.446365  11.490000  \n",
              "...                               ...         ...        ...  \n",
              "2023-01-24 00:00:00-05:00   96.320000  192.649994  74.699997  \n",
              "2023-01-25 00:00:00-05:00   97.180000  193.229996  74.910004  \n",
              "2023-01-26 00:00:00-05:00   99.220001  198.020004  75.160004  \n",
              "2023-01-27 00:00:00-05:00  102.239998  203.649994  75.400002  \n",
              "2023-01-30 00:00:00-05:00  100.550003  191.619995  72.449997  \n",
              "\n",
              "[1529 rows x 7 columns]"
            ],
            "text/html": [
              "\n",
              "  <div id=\"df-7d084854-d94b-4a86-a268-93534960d1ce\">\n",
              "    <div class=\"colab-df-container\">\n",
              "      <div>\n",
              "<style scoped>\n",
              "    .dataframe tbody tr th:only-of-type {\n",
              "        vertical-align: middle;\n",
              "    }\n",
              "\n",
              "    .dataframe tbody tr th {\n",
              "        vertical-align: top;\n",
              "    }\n",
              "\n",
              "    .dataframe thead th {\n",
              "        text-align: right;\n",
              "    }\n",
              "</style>\n",
              "<table border=\"1\" class=\"dataframe\">\n",
              "  <thead>\n",
              "    <tr style=\"text-align: right;\">\n",
              "      <th></th>\n",
              "      <th>AAPL</th>\n",
              "      <th>MSFT</th>\n",
              "      <th>WMT</th>\n",
              "      <th>PG</th>\n",
              "      <th>AMZN</th>\n",
              "      <th>NVDA</th>\n",
              "      <th>AMD</th>\n",
              "    </tr>\n",
              "    <tr>\n",
              "      <th>Date</th>\n",
              "      <th></th>\n",
              "      <th></th>\n",
              "      <th></th>\n",
              "      <th></th>\n",
              "      <th></th>\n",
              "      <th></th>\n",
              "      <th></th>\n",
              "    </tr>\n",
              "  </thead>\n",
              "  <tbody>\n",
              "    <tr>\n",
              "      <th>2017-01-03 00:00:00-05:00</th>\n",
              "      <td>27.174755</td>\n",
              "      <td>57.645378</td>\n",
              "      <td>61.081329</td>\n",
              "      <td>70.810143</td>\n",
              "      <td>37.683498</td>\n",
              "      <td>25.147223</td>\n",
              "      <td>11.430000</td>\n",
              "    </tr>\n",
              "    <tr>\n",
              "      <th>2017-01-04 00:00:00-05:00</th>\n",
              "      <td>27.144341</td>\n",
              "      <td>57.387440</td>\n",
              "      <td>61.437172</td>\n",
              "      <td>71.062454</td>\n",
              "      <td>37.859001</td>\n",
              "      <td>25.733934</td>\n",
              "      <td>11.430000</td>\n",
              "    </tr>\n",
              "    <tr>\n",
              "      <th>2017-01-05 00:00:00-05:00</th>\n",
              "      <td>27.282377</td>\n",
              "      <td>57.387440</td>\n",
              "      <td>61.570629</td>\n",
              "      <td>71.533401</td>\n",
              "      <td>39.022499</td>\n",
              "      <td>25.080660</td>\n",
              "      <td>11.240000</td>\n",
              "    </tr>\n",
              "    <tr>\n",
              "      <th>2017-01-06 00:00:00-05:00</th>\n",
              "      <td>27.586531</td>\n",
              "      <td>57.884865</td>\n",
              "      <td>60.725498</td>\n",
              "      <td>71.508171</td>\n",
              "      <td>39.799500</td>\n",
              "      <td>25.415926</td>\n",
              "      <td>11.320000</td>\n",
              "    </tr>\n",
              "    <tr>\n",
              "      <th>2017-01-09 00:00:00-05:00</th>\n",
              "      <td>27.839205</td>\n",
              "      <td>57.700626</td>\n",
              "      <td>61.125801</td>\n",
              "      <td>70.978355</td>\n",
              "      <td>39.846001</td>\n",
              "      <td>26.446365</td>\n",
              "      <td>11.490000</td>\n",
              "    </tr>\n",
              "    <tr>\n",
              "      <th>...</th>\n",
              "      <td>...</td>\n",
              "      <td>...</td>\n",
              "      <td>...</td>\n",
              "      <td>...</td>\n",
              "      <td>...</td>\n",
              "      <td>...</td>\n",
              "      <td>...</td>\n",
              "    </tr>\n",
              "    <tr>\n",
              "      <th>2023-01-24 00:00:00-05:00</th>\n",
              "      <td>142.529999</td>\n",
              "      <td>242.039993</td>\n",
              "      <td>143.020004</td>\n",
              "      <td>141.820007</td>\n",
              "      <td>96.320000</td>\n",
              "      <td>192.649994</td>\n",
              "      <td>74.699997</td>\n",
              "    </tr>\n",
              "    <tr>\n",
              "      <th>2023-01-25 00:00:00-05:00</th>\n",
              "      <td>141.860001</td>\n",
              "      <td>240.610001</td>\n",
              "      <td>142.339996</td>\n",
              "      <td>141.720001</td>\n",
              "      <td>97.180000</td>\n",
              "      <td>193.229996</td>\n",
              "      <td>74.910004</td>\n",
              "    </tr>\n",
              "    <tr>\n",
              "      <th>2023-01-26 00:00:00-05:00</th>\n",
              "      <td>143.960007</td>\n",
              "      <td>248.000000</td>\n",
              "      <td>142.210007</td>\n",
              "      <td>141.149994</td>\n",
              "      <td>99.220001</td>\n",
              "      <td>198.020004</td>\n",
              "      <td>75.160004</td>\n",
              "    </tr>\n",
              "    <tr>\n",
              "      <th>2023-01-27 00:00:00-05:00</th>\n",
              "      <td>145.929993</td>\n",
              "      <td>248.160004</td>\n",
              "      <td>143.300003</td>\n",
              "      <td>140.570007</td>\n",
              "      <td>102.239998</td>\n",
              "      <td>203.649994</td>\n",
              "      <td>75.400002</td>\n",
              "    </tr>\n",
              "    <tr>\n",
              "      <th>2023-01-30 00:00:00-05:00</th>\n",
              "      <td>143.000000</td>\n",
              "      <td>242.710007</td>\n",
              "      <td>142.149994</td>\n",
              "      <td>141.009995</td>\n",
              "      <td>100.550003</td>\n",
              "      <td>191.619995</td>\n",
              "      <td>72.449997</td>\n",
              "    </tr>\n",
              "  </tbody>\n",
              "</table>\n",
              "<p>1529 rows × 7 columns</p>\n",
              "</div>\n",
              "      <button class=\"colab-df-convert\" onclick=\"convertToInteractive('df-7d084854-d94b-4a86-a268-93534960d1ce')\"\n",
              "              title=\"Convert this dataframe to an interactive table.\"\n",
              "              style=\"display:none;\">\n",
              "        \n",
              "  <svg xmlns=\"http://www.w3.org/2000/svg\" height=\"24px\"viewBox=\"0 0 24 24\"\n",
              "       width=\"24px\">\n",
              "    <path d=\"M0 0h24v24H0V0z\" fill=\"none\"/>\n",
              "    <path d=\"M18.56 5.44l.94 2.06.94-2.06 2.06-.94-2.06-.94-.94-2.06-.94 2.06-2.06.94zm-11 1L8.5 8.5l.94-2.06 2.06-.94-2.06-.94L8.5 2.5l-.94 2.06-2.06.94zm10 10l.94 2.06.94-2.06 2.06-.94-2.06-.94-.94-2.06-.94 2.06-2.06.94z\"/><path d=\"M17.41 7.96l-1.37-1.37c-.4-.4-.92-.59-1.43-.59-.52 0-1.04.2-1.43.59L10.3 9.45l-7.72 7.72c-.78.78-.78 2.05 0 2.83L4 21.41c.39.39.9.59 1.41.59.51 0 1.02-.2 1.41-.59l7.78-7.78 2.81-2.81c.8-.78.8-2.07 0-2.86zM5.41 20L4 18.59l7.72-7.72 1.47 1.35L5.41 20z\"/>\n",
              "  </svg>\n",
              "      </button>\n",
              "      \n",
              "  <style>\n",
              "    .colab-df-container {\n",
              "      display:flex;\n",
              "      flex-wrap:wrap;\n",
              "      gap: 12px;\n",
              "    }\n",
              "\n",
              "    .colab-df-convert {\n",
              "      background-color: #E8F0FE;\n",
              "      border: none;\n",
              "      border-radius: 50%;\n",
              "      cursor: pointer;\n",
              "      display: none;\n",
              "      fill: #1967D2;\n",
              "      height: 32px;\n",
              "      padding: 0 0 0 0;\n",
              "      width: 32px;\n",
              "    }\n",
              "\n",
              "    .colab-df-convert:hover {\n",
              "      background-color: #E2EBFA;\n",
              "      box-shadow: 0px 1px 2px rgba(60, 64, 67, 0.3), 0px 1px 3px 1px rgba(60, 64, 67, 0.15);\n",
              "      fill: #174EA6;\n",
              "    }\n",
              "\n",
              "    [theme=dark] .colab-df-convert {\n",
              "      background-color: #3B4455;\n",
              "      fill: #D2E3FC;\n",
              "    }\n",
              "\n",
              "    [theme=dark] .colab-df-convert:hover {\n",
              "      background-color: #434B5C;\n",
              "      box-shadow: 0px 1px 3px 1px rgba(0, 0, 0, 0.15);\n",
              "      filter: drop-shadow(0px 1px 2px rgba(0, 0, 0, 0.3));\n",
              "      fill: #FFFFFF;\n",
              "    }\n",
              "  </style>\n",
              "\n",
              "      <script>\n",
              "        const buttonEl =\n",
              "          document.querySelector('#df-7d084854-d94b-4a86-a268-93534960d1ce button.colab-df-convert');\n",
              "        buttonEl.style.display =\n",
              "          google.colab.kernel.accessAllowed ? 'block' : 'none';\n",
              "\n",
              "        async function convertToInteractive(key) {\n",
              "          const element = document.querySelector('#df-7d084854-d94b-4a86-a268-93534960d1ce');\n",
              "          const dataTable =\n",
              "            await google.colab.kernel.invokeFunction('convertToInteractive',\n",
              "                                                     [key], {});\n",
              "          if (!dataTable) return;\n",
              "\n",
              "          const docLinkHtml = 'Like what you see? Visit the ' +\n",
              "            '<a target=\"_blank\" href=https://colab.research.google.com/notebooks/data_table.ipynb>data table notebook</a>'\n",
              "            + ' to learn more about interactive tables.';\n",
              "          element.innerHTML = '';\n",
              "          dataTable['output_type'] = 'display_data';\n",
              "          await google.colab.output.renderOutput(dataTable, element);\n",
              "          const docLink = document.createElement('div');\n",
              "          docLink.innerHTML = docLinkHtml;\n",
              "          element.appendChild(docLink);\n",
              "        }\n",
              "      </script>\n",
              "    </div>\n",
              "  </div>\n",
              "  "
            ]
          },
          "metadata": {},
          "execution_count": 8
        }
      ]
    },
    {
      "cell_type": "code",
      "source": [],
      "metadata": {
        "id": "x-iIvMDAmI-T"
      },
      "execution_count": 8,
      "outputs": []
    },
    {
      "cell_type": "code",
      "source": [
        "data.plot(figsize=(10, 7))\n",
        "\n",
        "# Show the legend\n",
        "plt.legend()\n",
        "\n",
        "# Define the label for the title of the figure\n",
        "plt.title(\"Adjusted Close Price\", fontsize=16)\n",
        "\n",
        "# Define the labels for x-axis and y-axis\n",
        "plt.ylabel('Price', fontsize=14)\n",
        "plt.xlabel('Year', fontsize=14)\n",
        "\n",
        "# Plot the grid lines\n",
        "plt.grid(which=\"major\", color='k', linestyle='-.', linewidth=0.5)\n",
        "plt.show()"
      ],
      "metadata": {
        "colab": {
          "base_uri": "https://localhost:8080/",
          "height": 443
        },
        "id": "3LNjAqvSAkKJ",
        "outputId": "3e398678-6eaf-4b61-908f-e4faf9ebeeb4"
      },
      "execution_count": 9,
      "outputs": [
        {
          "output_type": "display_data",
          "data": {
            "text/plain": [
              "<Figure size 720x504 with 1 Axes>"
            ],
            "image/png": "[encoded data removed]"
          },
          "metadata": {}
        }
      ]
    },
    {
      "cell_type": "code",
      "source": [
        "#show the return using pct_change()\n",
        "returns=data.pct_change()\n",
        "returns"
      ],
      "metadata": {
        "colab": {
          "base_uri": "https://localhost:8080/",
          "height": 455
        },
        "id": "ry4d6i8NwWxT",
        "outputId": "c9bb0d9d-d3ca-4eb1-fc1b-839438d825c2"
      },
      "execution_count": 10,
      "outputs": [
        {
          "output_type": "execute_result",
          "data": {
            "text/plain": [
              "                               AAPL      MSFT       WMT        PG      AMZN  \\\n",
              "Date                                                                          \n",
              "2017-01-03 00:00:00-05:00       NaN       NaN       NaN       NaN       NaN   \n",
              "2017-01-04 00:00:00-05:00 -0.001119 -0.004475  0.005826  0.003563  0.004657   \n",
              "2017-01-05 00:00:00-05:00  0.005085  0.000000  0.002172  0.006627  0.030732   \n",
              "2017-01-06 00:00:00-05:00  0.011148  0.008668 -0.013726 -0.000353  0.019912   \n",
              "2017-01-09 00:00:00-05:00  0.009159 -0.003183  0.006592 -0.007409  0.001168   \n",
              "...                             ...       ...       ...       ...       ...   \n",
              "2023-01-24 00:00:00-05:00  0.010063 -0.002226  0.002664  0.005459 -0.012305   \n",
              "2023-01-25 00:00:00-05:00 -0.004701 -0.005908 -0.004755 -0.000705  0.008929   \n",
              "2023-01-26 00:00:00-05:00  0.014803  0.030714 -0.000913 -0.004022  0.020992   \n",
              "2023-01-27 00:00:00-05:00  0.013684  0.000645  0.007665 -0.004109  0.030437   \n",
              "2023-01-30 00:00:00-05:00 -0.020078 -0.021962 -0.008025  0.003130 -0.016530   \n",
              "\n",
              "                               NVDA       AMD  \n",
              "Date                                           \n",
              "2017-01-03 00:00:00-05:00       NaN       NaN  \n",
              "2017-01-04 00:00:00-05:00  0.023331  0.000000  \n",
              "2017-01-05 00:00:00-05:00 -0.025386 -0.016623  \n",
              "2017-01-06 00:00:00-05:00  0.013368  0.007117  \n",
              "2017-01-09 00:00:00-05:00  0.040543  0.015018  \n",
              "...                             ...       ...  \n",
              "2023-01-24 00:00:00-05:00  0.003751 -0.023912  \n",
              "2023-01-25 00:00:00-05:00  0.003011  0.002811  \n",
              "2023-01-26 00:00:00-05:00  0.024789  0.003337  \n",
              "2023-01-27 00:00:00-05:00  0.028431  0.003193  \n",
              "2023-01-30 00:00:00-05:00 -0.059072 -0.039125  \n",
              "\n",
              "[1529 rows x 7 columns]"
            ],
            "text/html": [
              "\n",
              "  <div id=\"df-23dba6d4-5ec5-4d4a-b6da-80eae1dcf834\">\n",
              "    <div class=\"colab-df-container\">\n",
              "      <div>\n",
              "<style scoped>\n",
              "    .dataframe tbody tr th:only-of-type {\n",
              "        vertical-align: middle;\n",
              "    }\n",
              "\n",
              "    .dataframe tbody tr th {\n",
              "        vertical-align: top;\n",
              "    }\n",
              "\n",
              "    .dataframe thead th {\n",
              "        text-align: right;\n",
              "    }\n",
              "</style>\n",
              "<table border=\"1\" class=\"dataframe\">\n",
              "  <thead>\n",
              "    <tr style=\"text-align: right;\">\n",
              "      <th></th>\n",
              "      <th>AAPL</th>\n",
              "      <th>MSFT</th>\n",
              "      <th>WMT</th>\n",
              "      <th>PG</th>\n",
              "      <th>AMZN</th>\n",
              "      <th>NVDA</th>\n",
              "      <th>AMD</th>\n",
              "    </tr>\n",
              "    <tr>\n",
              "      <th>Date</th>\n",
              "      <th></th>\n",
              "      <th></th>\n",
              "      <th></th>\n",
              "      <th></th>\n",
              "      <th></th>\n",
              "      <th></th>\n",
              "      <th></th>\n",
              "    </tr>\n",
              "  </thead>\n",
              "  <tbody>\n",
              "    <tr>\n",
              "      <th>2017-01-03 00:00:00-05:00</th>\n",
              "      <td>NaN</td>\n",
              "      <td>NaN</td>\n",
              "      <td>NaN</td>\n",
              "      <td>NaN</td>\n",
              "      <td>NaN</td>\n",
              "      <td>NaN</td>\n",
              "      <td>NaN</td>\n",
              "    </tr>\n",
              "    <tr>\n",
              "      <th>2017-01-04 00:00:00-05:00</th>\n",
              "      <td>-0.001119</td>\n",
              "      <td>-0.004475</td>\n",
              "      <td>0.005826</td>\n",
              "      <td>0.003563</td>\n",
              "      <td>0.004657</td>\n",
              "      <td>0.023331</td>\n",
              "      <td>0.000000</td>\n",
              "    </tr>\n",
              "    <tr>\n",
              "      <th>2017-01-05 00:00:00-05:00</th>\n",
              "      <td>0.005085</td>\n",
              "      <td>0.000000</td>\n",
              "      <td>0.002172</td>\n",
              "      <td>0.006627</td>\n",
              "      <td>0.030732</td>\n",
              "      <td>-0.025386</td>\n",
              "      <td>-0.016623</td>\n",
              "    </tr>\n",
              "    <tr>\n",
              "      <th>2017-01-06 00:00:00-05:00</th>\n",
              "      <td>0.011148</td>\n",
              "      <td>0.008668</td>\n",
              "      <td>-0.013726</td>\n",
              "      <td>-0.000353</td>\n",
              "      <td>0.019912</td>\n",
              "      <td>0.013368</td>\n",
              "      <td>0.007117</td>\n",
              "    </tr>\n",
              "    <tr>\n",
              "      <th>2017-01-09 00:00:00-05:00</th>\n",
              "      <td>0.009159</td>\n",
              "      <td>-0.003183</td>\n",
              "      <td>0.006592</td>\n",
              "      <td>-0.007409</td>\n",
              "      <td>0.001168</td>\n",
              "      <td>0.040543</td>\n",
              "      <td>0.015018</td>\n",
              "    </tr>\n",
              "    <tr>\n",
              "      <th>...</th>\n",
              "      <td>...</td>\n",
              "      <td>...</td>\n",
              "      <td>...</td>\n",
              "      <td>...</td>\n",
              "      <td>...</td>\n",
              "      <td>...</td>\n",
              "      <td>...</td>\n",
              "    </tr>\n",
              "    <tr>\n",
              "      <th>2023-01-24 00:00:00-05:00</th>\n",
              "      <td>0.010063</td>\n",
              "      <td>-0.002226</td>\n",
              "      <td>0.002664</td>\n",
              "      <td>0.005459</td>\n",
              "      <td>-0.012305</td>\n",
              "      <td>0.003751</td>\n",
              "      <td>-0.023912</td>\n",
              "    </tr>\n",
              "    <tr>\n",
              "      <th>2023-01-25 00:00:00-05:00</th>\n",
              "      <td>-0.004701</td>\n",
              "      <td>-0.005908</td>\n",
              "      <td>-0.004755</td>\n",
              "      <td>-0.000705</td>\n",
              "      <td>0.008929</td>\n",
              "      <td>0.003011</td>\n",
              "      <td>0.002811</td>\n",
              "    </tr>\n",
              "    <tr>\n",
              "      <th>2023-01-26 00:00:00-05:00</th>\n",
              "      <td>0.014803</td>\n",
              "      <td>0.030714</td>\n",
              "      <td>-0.000913</td>\n",
              "      <td>-0.004022</td>\n",
              "      <td>0.020992</td>\n",
              "      <td>0.024789</td>\n",
              "      <td>0.003337</td>\n",
              "    </tr>\n",
              "    <tr>\n",
              "      <th>2023-01-27 00:00:00-05:00</th>\n",
              "      <td>0.013684</td>\n",
              "      <td>0.000645</td>\n",
              "      <td>0.007665</td>\n",
              "      <td>-0.004109</td>\n",
              "      <td>0.030437</td>\n",
              "      <td>0.028431</td>\n",
              "      <td>0.003193</td>\n",
              "    </tr>\n",
              "    <tr>\n",
              "      <th>2023-01-30 00:00:00-05:00</th>\n",
              "      <td>-0.020078</td>\n",
              "      <td>-0.021962</td>\n",
              "      <td>-0.008025</td>\n",
              "      <td>0.003130</td>\n",
              "      <td>-0.016530</td>\n",
              "      <td>-0.059072</td>\n",
              "      <td>-0.039125</td>\n",
              "    </tr>\n",
              "  </tbody>\n",
              "</table>\n",
              "<p>1529 rows × 7 columns</p>\n",
              "</div>\n",
              "      <button class=\"colab-df-convert\" onclick=\"convertToInteractive('df-23dba6d4-5ec5-4d4a-b6da-80eae1dcf834')\"\n",
              "              title=\"Convert this dataframe to an interactive table.\"\n",
              "              style=\"display:none;\">\n",
              "        \n",
              "  <svg xmlns=\"http://www.w3.org/2000/svg\" height=\"24px\"viewBox=\"0 0 24 24\"\n",
              "       width=\"24px\">\n",
              "    <path d=\"M0 0h24v24H0V0z\" fill=\"none\"/>\n",
              "    <path d=\"M18.56 5.44l.94 2.06.94-2.06 2.06-.94-2.06-.94-.94-2.06-.94 2.06-2.06.94zm-11 1L8.5 8.5l.94-2.06 2.06-.94-2.06-.94L8.5 2.5l-.94 2.06-2.06.94zm10 10l.94 2.06.94-2.06 2.06-.94-2.06-.94-.94-2.06-.94 2.06-2.06.94z\"/><path d=\"M17.41 7.96l-1.37-1.37c-.4-.4-.92-.59-1.43-.59-.52 0-1.04.2-1.43.59L10.3 9.45l-7.72 7.72c-.78.78-.78 2.05 0 2.83L4 21.41c.39.39.9.59 1.41.59.51 0 1.02-.2 1.41-.59l7.78-7.78 2.81-2.81c.8-.78.8-2.07 0-2.86zM5.41 20L4 18.59l7.72-7.72 1.47 1.35L5.41 20z\"/>\n",
              "  </svg>\n",
              "      </button>\n",
              "      \n",
              "  <style>\n",
              "    .colab-df-container {\n",
              "      display:flex;\n",
              "      flex-wrap:wrap;\n",
              "      gap: 12px;\n",
              "    }\n",
              "\n",
              "    .colab-df-convert {\n",
              "      background-color: #E8F0FE;\n",
              "      border: none;\n",
              "      border-radius: 50%;\n",
              "      cursor: pointer;\n",
              "      display: none;\n",
              "      fill: #1967D2;\n",
              "      height: 32px;\n",
              "      padding: 0 0 0 0;\n",
              "      width: 32px;\n",
              "    }\n",
              "\n",
              "    .colab-df-convert:hover {\n",
              "      background-color: #E2EBFA;\n",
              "      box-shadow: 0px 1px 2px rgba(60, 64, 67, 0.3), 0px 1px 3px 1px rgba(60, 64, 67, 0.15);\n",
              "      fill: #174EA6;\n",
              "    }\n",
              "\n",
              "    [theme=dark] .colab-df-convert {\n",
              "      background-color: #3B4455;\n",
              "      fill: #D2E3FC;\n",
              "    }\n",
              "\n",
              "    [theme=dark] .colab-df-convert:hover {\n",
              "      background-color: #434B5C;\n",
              "      box-shadow: 0px 1px 3px 1px rgba(0, 0, 0, 0.15);\n",
              "      filter: drop-shadow(0px 1px 2px rgba(0, 0, 0, 0.3));\n",
              "      fill: #FFFFFF;\n",
              "    }\n",
              "  </style>\n",
              "\n",
              "      <script>\n",
              "        const buttonEl =\n",
              "          document.querySelector('#df-23dba6d4-5ec5-4d4a-b6da-80eae1dcf834 button.colab-df-convert');\n",
              "        buttonEl.style.display =\n",
              "          google.colab.kernel.accessAllowed ? 'block' : 'none';\n",
              "\n",
              "        async function convertToInteractive(key) {\n",
              "          const element = document.querySelector('#df-23dba6d4-5ec5-4d4a-b6da-80eae1dcf834');\n",
              "          const dataTable =\n",
              "            await google.colab.kernel.invokeFunction('convertToInteractive',\n",
              "                                                     [key], {});\n",
              "          if (!dataTable) return;\n",
              "\n",
              "          const docLinkHtml = 'Like what you see? Visit the ' +\n",
              "            '<a target=\"_blank\" href=https://colab.research.google.com/notebooks/data_table.ipynb>data table notebook</a>'\n",
              "            + ' to learn more about interactive tables.';\n",
              "          element.innerHTML = '';\n",
              "          dataTable['output_type'] = 'display_data';\n",
              "          await google.colab.output.renderOutput(dataTable, element);\n",
              "          const docLink = document.createElement('div');\n",
              "          docLink.innerHTML = docLinkHtml;\n",
              "          element.appendChild(docLink);\n",
              "        }\n",
              "      </script>\n",
              "    </div>\n",
              "  </div>\n",
              "  "
            ]
          },
          "metadata": {},
          "execution_count": 10
        }
      ]
    },
    {
      "cell_type": "code",
      "source": [
        "returns.head()"
      ],
      "metadata": {
        "colab": {
          "base_uri": "https://localhost:8080/",
          "height": 237
        },
        "id": "m3uX2ZGAmSji",
        "outputId": "da8c0e94-a126-4523-ae9f-cdd89aa29f6b"
      },
      "execution_count": 11,
      "outputs": [
        {
          "output_type": "execute_result",
          "data": {
            "text/plain": [
              "                               AAPL      MSFT       WMT        PG      AMZN  \\\n",
              "Date                                                                          \n",
              "2017-01-03 00:00:00-05:00       NaN       NaN       NaN       NaN       NaN   \n",
              "2017-01-04 00:00:00-05:00 -0.001119 -0.004475  0.005826  0.003563  0.004657   \n",
              "2017-01-05 00:00:00-05:00  0.005085  0.000000  0.002172  0.006627  0.030732   \n",
              "2017-01-06 00:00:00-05:00  0.011148  0.008668 -0.013726 -0.000353  0.019912   \n",
              "2017-01-09 00:00:00-05:00  0.009159 -0.003183  0.006592 -0.007409  0.001168   \n",
              "\n",
              "                               NVDA       AMD  \n",
              "Date                                           \n",
              "2017-01-03 00:00:00-05:00       NaN       NaN  \n",
              "2017-01-04 00:00:00-05:00  0.023331  0.000000  \n",
              "2017-01-05 00:00:00-05:00 -0.025386 -0.016623  \n",
              "2017-01-06 00:00:00-05:00  0.013368  0.007117  \n",
              "2017-01-09 00:00:00-05:00  0.040543  0.015018  "
            ],
            "text/html": [
              "\n",
              "  <div id=\"df-c4f556b4-c224-4b19-a7a2-204f3231ee20\">\n",
              "    <div class=\"colab-df-container\">\n",
              "      <div>\n",
              "<style scoped>\n",
              "    .dataframe tbody tr th:only-of-type {\n",
              "        vertical-align: middle;\n",
              "    }\n",
              "\n",
              "    .dataframe tbody tr th {\n",
              "        vertical-align: top;\n",
              "    }\n",
              "\n",
              "    .dataframe thead th {\n",
              "        text-align: right;\n",
              "    }\n",
              "</style>\n",
              "<table border=\"1\" class=\"dataframe\">\n",
              "  <thead>\n",
              "    <tr style=\"text-align: right;\">\n",
              "      <th></th>\n",
              "      <th>AAPL</th>\n",
              "      <th>MSFT</th>\n",
              "      <th>WMT</th>\n",
              "      <th>PG</th>\n",
              "      <th>AMZN</th>\n",
              "      <th>NVDA</th>\n",
              "      <th>AMD</th>\n",
              "    </tr>\n",
              "    <tr>\n",
              "      <th>Date</th>\n",
              "      <th></th>\n",
              "      <th></th>\n",
              "      <th></th>\n",
              "      <th></th>\n",
              "      <th></th>\n",
              "      <th></th>\n",
              "      <th></th>\n",
              "    </tr>\n",
              "  </thead>\n",
              "  <tbody>\n",
              "    <tr>\n",
              "      <th>2017-01-03 00:00:00-05:00</th>\n",
              "      <td>NaN</td>\n",
              "      <td>NaN</td>\n",
              "      <td>NaN</td>\n",
              "      <td>NaN</td>\n",
              "      <td>NaN</td>\n",
              "      <td>NaN</td>\n",
              "      <td>NaN</td>\n",
              "    </tr>\n",
              "    <tr>\n",
              "      <th>2017-01-04 00:00:00-05:00</th>\n",
              "      <td>-0.001119</td>\n",
              "      <td>-0.004475</td>\n",
              "      <td>0.005826</td>\n",
              "      <td>0.003563</td>\n",
              "      <td>0.004657</td>\n",
              "      <td>0.023331</td>\n",
              "      <td>0.000000</td>\n",
              "    </tr>\n",
              "    <tr>\n",
              "      <th>2017-01-05 00:00:00-05:00</th>\n",
              "      <td>0.005085</td>\n",
              "      <td>0.000000</td>\n",
              "      <td>0.002172</td>\n",
              "      <td>0.006627</td>\n",
              "      <td>0.030732</td>\n",
              "      <td>-0.025386</td>\n",
              "      <td>-0.016623</td>\n",
              "    </tr>\n",
              "    <tr>\n",
              "      <th>2017-01-06 00:00:00-05:00</th>\n",
              "      <td>0.011148</td>\n",
              "      <td>0.008668</td>\n",
              "      <td>-0.013726</td>\n",
              "      <td>-0.000353</td>\n",
              "      <td>0.019912</td>\n",
              "      <td>0.013368</td>\n",
              "      <td>0.007117</td>\n",
              "    </tr>\n",
              "    <tr>\n",
              "      <th>2017-01-09 00:00:00-05:00</th>\n",
              "      <td>0.009159</td>\n",
              "      <td>-0.003183</td>\n",
              "      <td>0.006592</td>\n",
              "      <td>-0.007409</td>\n",
              "      <td>0.001168</td>\n",
              "      <td>0.040543</td>\n",
              "      <td>0.015018</td>\n",
              "    </tr>\n",
              "  </tbody>\n",
              "</table>\n",
              "</div>\n",
              "      <button class=\"colab-df-convert\" onclick=\"convertToInteractive('df-c4f556b4-c224-4b19-a7a2-204f3231ee20')\"\n",
              "              title=\"Convert this dataframe to an interactive table.\"\n",
              "              style=\"display:none;\">\n",
              "        \n",
              "  <svg xmlns=\"http://www.w3.org/2000/svg\" height=\"24px\"viewBox=\"0 0 24 24\"\n",
              "       width=\"24px\">\n",
              "    <path d=\"M0 0h24v24H0V0z\" fill=\"none\"/>\n",
              "    <path d=\"M18.56 5.44l.94 2.06.94-2.06 2.06-.94-2.06-.94-.94-2.06-.94 2.06-2.06.94zm-11 1L8.5 8.5l.94-2.06 2.06-.94-2.06-.94L8.5 2.5l-.94 2.06-2.06.94zm10 10l.94 2.06.94-2.06 2.06-.94-2.06-.94-.94-2.06-.94 2.06-2.06.94z\"/><path d=\"M17.41 7.96l-1.37-1.37c-.4-.4-.92-.59-1.43-.59-.52 0-1.04.2-1.43.59L10.3 9.45l-7.72 7.72c-.78.78-.78 2.05 0 2.83L4 21.41c.39.39.9.59 1.41.59.51 0 1.02-.2 1.41-.59l7.78-7.78 2.81-2.81c.8-.78.8-2.07 0-2.86zM5.41 20L4 18.59l7.72-7.72 1.47 1.35L5.41 20z\"/>\n",
              "  </svg>\n",
              "      </button>\n",
              "      \n",
              "  <style>\n",
              "    .colab-df-container {\n",
              "      display:flex;\n",
              "      flex-wrap:wrap;\n",
              "      gap: 12px;\n",
              "    }\n",
              "\n",
              "    .colab-df-convert {\n",
              "      background-color: #E8F0FE;\n",
              "      border: none;\n",
              "      border-radius: 50%;\n",
              "      cursor: pointer;\n",
              "      display: none;\n",
              "      fill: #1967D2;\n",
              "      height: 32px;\n",
              "      padding: 0 0 0 0;\n",
              "      width: 32px;\n",
              "    }\n",
              "\n",
              "    .colab-df-convert:hover {\n",
              "      background-color: #E2EBFA;\n",
              "      box-shadow: 0px 1px 2px rgba(60, 64, 67, 0.3), 0px 1px 3px 1px rgba(60, 64, 67, 0.15);\n",
              "      fill: #174EA6;\n",
              "    }\n",
              "\n",
              "    [theme=dark] .colab-df-convert {\n",
              "      background-color: #3B4455;\n",
              "      fill: #D2E3FC;\n",
              "    }\n",
              "\n",
              "    [theme=dark] .colab-df-convert:hover {\n",
              "      background-color: #434B5C;\n",
              "      box-shadow: 0px 1px 3px 1px rgba(0, 0, 0, 0.15);\n",
              "      filter: drop-shadow(0px 1px 2px rgba(0, 0, 0, 0.3));\n",
              "      fill: #FFFFFF;\n",
              "    }\n",
              "  </style>\n",
              "\n",
              "      <script>\n",
              "        const buttonEl =\n",
              "          document.querySelector('#df-c4f556b4-c224-4b19-a7a2-204f3231ee20 button.colab-df-convert');\n",
              "        buttonEl.style.display =\n",
              "          google.colab.kernel.accessAllowed ? 'block' : 'none';\n",
              "\n",
              "        async function convertToInteractive(key) {\n",
              "          const element = document.querySelector('#df-c4f556b4-c224-4b19-a7a2-204f3231ee20');\n",
              "          const dataTable =\n",
              "            await google.colab.kernel.invokeFunction('convertToInteractive',\n",
              "                                                     [key], {});\n",
              "          if (!dataTable) return;\n",
              "\n",
              "          const docLinkHtml = 'Like what you see? Visit the ' +\n",
              "            '<a target=\"_blank\" href=https://colab.research.google.com/notebooks/data_table.ipynb>data table notebook</a>'\n",
              "            + ' to learn more about interactive tables.';\n",
              "          element.innerHTML = '';\n",
              "          dataTable['output_type'] = 'display_data';\n",
              "          await google.colab.output.renderOutput(dataTable, element);\n",
              "          const docLink = document.createElement('div');\n",
              "          docLink.innerHTML = docLinkHtml;\n",
              "          element.appendChild(docLink);\n",
              "        }\n",
              "      </script>\n",
              "    </div>\n",
              "  </div>\n",
              "  "
            ]
          },
          "metadata": {},
          "execution_count": 11
        }
      ]
    },
    {
      "cell_type": "code",
      "source": [
        "#create and show the annualise covariance matrix\n",
        "cov_matrix_annual= returns.cov()* 252\n",
        "cov_matrix_annual.head()"
      ],
      "metadata": {
        "colab": {
          "base_uri": "https://localhost:8080/",
          "height": 206
        },
        "id": "B3CR2pe6xFtr",
        "outputId": "20a8ce17-a193-4bbf-dc07-a314670cbb7e"
      },
      "execution_count": 12,
      "outputs": [
        {
          "output_type": "execute_result",
          "data": {
            "text/plain": [
              "          AAPL      MSFT       WMT        PG      AMZN      NVDA       AMD\n",
              "AAPL  0.098302  0.068484  0.025525  0.026383  0.068089  0.100754  0.094174\n",
              "MSFT  0.068484  0.084124  0.025589  0.027120  0.069619  0.099864  0.088476\n",
              "WMT   0.025525  0.025589  0.051387  0.022536  0.022521  0.033026  0.027834\n",
              "PG    0.026383  0.027120  0.022536  0.041694  0.017404  0.028338  0.025734\n",
              "AMZN  0.068089  0.069619  0.022521  0.017404  0.114722  0.104460  0.099576"
            ],
            "text/html": [
              "\n",
              "  <div id=\"df-61b14fd4-ffde-4f65-9c2e-0158be2f1a9b\">\n",
              "    <div class=\"colab-df-container\">\n",
              "      <div>\n",
              "<style scoped>\n",
              "    .dataframe tbody tr th:only-of-type {\n",
              "        vertical-align: middle;\n",
              "    }\n",
              "\n",
              "    .dataframe tbody tr th {\n",
              "        vertical-align: top;\n",
              "    }\n",
              "\n",
              "    .dataframe thead th {\n",
              "        text-align: right;\n",
              "    }\n",
              "</style>\n",
              "<table border=\"1\" class=\"dataframe\">\n",
              "  <thead>\n",
              "    <tr style=\"text-align: right;\">\n",
              "      <th></th>\n",
              "      <th>AAPL</th>\n",
              "      <th>MSFT</th>\n",
              "      <th>WMT</th>\n",
              "      <th>PG</th>\n",
              "      <th>AMZN</th>\n",
              "      <th>NVDA</th>\n",
              "      <th>AMD</th>\n",
              "    </tr>\n",
              "  </thead>\n",
              "  <tbody>\n",
              "    <tr>\n",
              "      <th>AAPL</th>\n",
              "      <td>0.098302</td>\n",
              "      <td>0.068484</td>\n",
              "      <td>0.025525</td>\n",
              "      <td>0.026383</td>\n",
              "      <td>0.068089</td>\n",
              "      <td>0.100754</td>\n",
              "      <td>0.094174</td>\n",
              "    </tr>\n",
              "    <tr>\n",
              "      <th>MSFT</th>\n",
              "      <td>0.068484</td>\n",
              "      <td>0.084124</td>\n",
              "      <td>0.025589</td>\n",
              "      <td>0.027120</td>\n",
              "      <td>0.069619</td>\n",
              "      <td>0.099864</td>\n",
              "      <td>0.088476</td>\n",
              "    </tr>\n",
              "    <tr>\n",
              "      <th>WMT</th>\n",
              "      <td>0.025525</td>\n",
              "      <td>0.025589</td>\n",
              "      <td>0.051387</td>\n",
              "      <td>0.022536</td>\n",
              "      <td>0.022521</td>\n",
              "      <td>0.033026</td>\n",
              "      <td>0.027834</td>\n",
              "    </tr>\n",
              "    <tr>\n",
              "      <th>PG</th>\n",
              "      <td>0.026383</td>\n",
              "      <td>0.027120</td>\n",
              "      <td>0.022536</td>\n",
              "      <td>0.041694</td>\n",
              "      <td>0.017404</td>\n",
              "      <td>0.028338</td>\n",
              "      <td>0.025734</td>\n",
              "    </tr>\n",
              "    <tr>\n",
              "      <th>AMZN</th>\n",
              "      <td>0.068089</td>\n",
              "      <td>0.069619</td>\n",
              "      <td>0.022521</td>\n",
              "      <td>0.017404</td>\n",
              "      <td>0.114722</td>\n",
              "      <td>0.104460</td>\n",
              "      <td>0.099576</td>\n",
              "    </tr>\n",
              "  </tbody>\n",
              "</table>\n",
              "</div>\n",
              "      <button class=\"colab-df-convert\" onclick=\"convertToInteractive('df-61b14fd4-ffde-4f65-9c2e-0158be2f1a9b')\"\n",
              "              title=\"Convert this dataframe to an interactive table.\"\n",
              "              style=\"display:none;\">\n",
              "        \n",
              "  <svg xmlns=\"http://www.w3.org/2000/svg\" height=\"24px\"viewBox=\"0 0 24 24\"\n",
              "       width=\"24px\">\n",
              "    <path d=\"M0 0h24v24H0V0z\" fill=\"none\"/>\n",
              "    <path d=\"M18.56 5.44l.94 2.06.94-2.06 2.06-.94-2.06-.94-.94-2.06-.94 2.06-2.06.94zm-11 1L8.5 8.5l.94-2.06 2.06-.94-2.06-.94L8.5 2.5l-.94 2.06-2.06.94zm10 10l.94 2.06.94-2.06 2.06-.94-2.06-.94-.94-2.06-.94 2.06-2.06.94z\"/><path d=\"M17.41 7.96l-1.37-1.37c-.4-.4-.92-.59-1.43-.59-.52 0-1.04.2-1.43.59L10.3 9.45l-7.72 7.72c-.78.78-.78 2.05 0 2.83L4 21.41c.39.39.9.59 1.41.59.51 0 1.02-.2 1.41-.59l7.78-7.78 2.81-2.81c.8-.78.8-2.07 0-2.86zM5.41 20L4 18.59l7.72-7.72 1.47 1.35L5.41 20z\"/>\n",
              "  </svg>\n",
              "      </button>\n",
              "      \n",
              "  <style>\n",
              "    .colab-df-container {\n",
              "      display:flex;\n",
              "      flex-wrap:wrap;\n",
              "      gap: 12px;\n",
              "    }\n",
              "\n",
              "    .colab-df-convert {\n",
              "      background-color: #E8F0FE;\n",
              "      border: none;\n",
              "      border-radius: 50%;\n",
              "      cursor: pointer;\n",
              "      display: none;\n",
              "      fill: #1967D2;\n",
              "      height: 32px;\n",
              "      padding: 0 0 0 0;\n",
              "      width: 32px;\n",
              "    }\n",
              "\n",
              "    .colab-df-convert:hover {\n",
              "      background-color: #E2EBFA;\n",
              "      box-shadow: 0px 1px 2px rgba(60, 64, 67, 0.3), 0px 1px 3px 1px rgba(60, 64, 67, 0.15);\n",
              "      fill: #174EA6;\n",
              "    }\n",
              "\n",
              "    [theme=dark] .colab-df-convert {\n",
              "      background-color: #3B4455;\n",
              "      fill: #D2E3FC;\n",
              "    }\n",
              "\n",
              "    [theme=dark] .colab-df-convert:hover {\n",
              "      background-color: #434B5C;\n",
              "      box-shadow: 0px 1px 3px 1px rgba(0, 0, 0, 0.15);\n",
              "      filter: drop-shadow(0px 1px 2px rgba(0, 0, 0, 0.3));\n",
              "      fill: #FFFFFF;\n",
              "    }\n",
              "  </style>\n",
              "\n",
              "      <script>\n",
              "        const buttonEl =\n",
              "          document.querySelector('#df-61b14fd4-ffde-4f65-9c2e-0158be2f1a9b button.colab-df-convert');\n",
              "        buttonEl.style.display =\n",
              "          google.colab.kernel.accessAllowed ? 'block' : 'none';\n",
              "\n",
              "        async function convertToInteractive(key) {\n",
              "          const element = document.querySelector('#df-61b14fd4-ffde-4f65-9c2e-0158be2f1a9b');\n",
              "          const dataTable =\n",
              "            await google.colab.kernel.invokeFunction('convertToInteractive',\n",
              "                                                     [key], {});\n",
              "          if (!dataTable) return;\n",
              "\n",
              "          const docLinkHtml = 'Like what you see? Visit the ' +\n",
              "            '<a target=\"_blank\" href=https://colab.research.google.com/notebooks/data_table.ipynb>data table notebook</a>'\n",
              "            + ' to learn more about interactive tables.';\n",
              "          element.innerHTML = '';\n",
              "          dataTable['output_type'] = 'display_data';\n",
              "          await google.colab.output.renderOutput(dataTable, element);\n",
              "          const docLink = document.createElement('div');\n",
              "          docLink.innerHTML = docLinkHtml;\n",
              "          element.appendChild(docLink);\n",
              "        }\n",
              "      </script>\n",
              "    </div>\n",
              "  </div>\n",
              "  "
            ]
          },
          "metadata": {},
          "execution_count": 12
        }
      ]
    },
    {
      "cell_type": "code",
      "source": [
        "returns.cov()"
      ],
      "metadata": {
        "colab": {
          "base_uri": "https://localhost:8080/",
          "height": 269
        },
        "id": "J3slr5KrNg7t",
        "outputId": "ac143f7f-38fb-4571-efc1-81f3ab44b482"
      },
      "execution_count": 13,
      "outputs": [
        {
          "output_type": "execute_result",
          "data": {
            "text/plain": [
              "          AAPL      MSFT       WMT        PG      AMZN      NVDA       AMD\n",
              "AAPL  0.000390  0.000272  0.000101  0.000105  0.000270  0.000400  0.000374\n",
              "MSFT  0.000272  0.000334  0.000102  0.000108  0.000276  0.000396  0.000351\n",
              "WMT   0.000101  0.000102  0.000204  0.000089  0.000089  0.000131  0.000110\n",
              "PG    0.000105  0.000108  0.000089  0.000165  0.000069  0.000112  0.000102\n",
              "AMZN  0.000270  0.000276  0.000089  0.000069  0.000455  0.000415  0.000395\n",
              "NVDA  0.000400  0.000396  0.000131  0.000112  0.000415  0.001002  0.000789\n",
              "AMD   0.000374  0.000351  0.000110  0.000102  0.000395  0.000789  0.001291"
            ],
            "text/html": [
              "\n",
              "  <div id=\"df-fd9203c3-5cb1-41a4-b667-7ec180da3864\">\n",
              "    <div class=\"colab-df-container\">\n",
              "      <div>\n",
              "<style scoped>\n",
              "    .dataframe tbody tr th:only-of-type {\n",
              "        vertical-align: middle;\n",
              "    }\n",
              "\n",
              "    .dataframe tbody tr th {\n",
              "        vertical-align: top;\n",
              "    }\n",
              "\n",
              "    .dataframe thead th {\n",
              "        text-align: right;\n",
              "    }\n",
              "</style>\n",
              "<table border=\"1\" class=\"dataframe\">\n",
              "  <thead>\n",
              "    <tr style=\"text-align: right;\">\n",
              "      <th></th>\n",
              "      <th>AAPL</th>\n",
              "      <th>MSFT</th>\n",
              "      <th>WMT</th>\n",
              "      <th>PG</th>\n",
              "      <th>AMZN</th>\n",
              "      <th>NVDA</th>\n",
              "      <th>AMD</th>\n",
              "    </tr>\n",
              "  </thead>\n",
              "  <tbody>\n",
              "    <tr>\n",
              "      <th>AAPL</th>\n",
              "      <td>0.000390</td>\n",
              "      <td>0.000272</td>\n",
              "      <td>0.000101</td>\n",
              "      <td>0.000105</td>\n",
              "      <td>0.000270</td>\n",
              "      <td>0.000400</td>\n",
              "      <td>0.000374</td>\n",
              "    </tr>\n",
              "    <tr>\n",
              "      <th>MSFT</th>\n",
              "      <td>0.000272</td>\n",
              "      <td>0.000334</td>\n",
              "      <td>0.000102</td>\n",
              "      <td>0.000108</td>\n",
              "      <td>0.000276</td>\n",
              "      <td>0.000396</td>\n",
              "      <td>0.000351</td>\n",
              "    </tr>\n",
              "    <tr>\n",
              "      <th>WMT</th>\n",
              "      <td>0.000101</td>\n",
              "      <td>0.000102</td>\n",
              "      <td>0.000204</td>\n",
              "      <td>0.000089</td>\n",
              "      <td>0.000089</td>\n",
              "      <td>0.000131</td>\n",
              "      <td>0.000110</td>\n",
              "    </tr>\n",
              "    <tr>\n",
              "      <th>PG</th>\n",
              "      <td>0.000105</td>\n",
              "      <td>0.000108</td>\n",
              "      <td>0.000089</td>\n",
              "      <td>0.000165</td>\n",
              "      <td>0.000069</td>\n",
              "      <td>0.000112</td>\n",
              "      <td>0.000102</td>\n",
              "    </tr>\n",
              "    <tr>\n",
              "      <th>AMZN</th>\n",
              "      <td>0.000270</td>\n",
              "      <td>0.000276</td>\n",
              "      <td>0.000089</td>\n",
              "      <td>0.000069</td>\n",
              "      <td>0.000455</td>\n",
              "      <td>0.000415</td>\n",
              "      <td>0.000395</td>\n",
              "    </tr>\n",
              "    <tr>\n",
              "      <th>NVDA</th>\n",
              "      <td>0.000400</td>\n",
              "      <td>0.000396</td>\n",
              "      <td>0.000131</td>\n",
              "      <td>0.000112</td>\n",
              "      <td>0.000415</td>\n",
              "      <td>0.001002</td>\n",
              "      <td>0.000789</td>\n",
              "    </tr>\n",
              "    <tr>\n",
              "      <th>AMD</th>\n",
              "      <td>0.000374</td>\n",
              "      <td>0.000351</td>\n",
              "      <td>0.000110</td>\n",
              "      <td>0.000102</td>\n",
              "      <td>0.000395</td>\n",
              "      <td>0.000789</td>\n",
              "      <td>0.001291</td>\n",
              "    </tr>\n",
              "  </tbody>\n",
              "</table>\n",
              "</div>\n",
              "      <button class=\"colab-df-convert\" onclick=\"convertToInteractive('df-fd9203c3-5cb1-41a4-b667-7ec180da3864')\"\n",
              "              title=\"Convert this dataframe to an interactive table.\"\n",
              "              style=\"display:none;\">\n",
              "        \n",
              "  <svg xmlns=\"http://www.w3.org/2000/svg\" height=\"24px\"viewBox=\"0 0 24 24\"\n",
              "       width=\"24px\">\n",
              "    <path d=\"M0 0h24v24H0V0z\" fill=\"none\"/>\n",
              "    <path d=\"M18.56 5.44l.94 2.06.94-2.06 2.06-.94-2.06-.94-.94-2.06-.94 2.06-2.06.94zm-11 1L8.5 8.5l.94-2.06 2.06-.94-2.06-.94L8.5 2.5l-.94 2.06-2.06.94zm10 10l.94 2.06.94-2.06 2.06-.94-2.06-.94-.94-2.06-.94 2.06-2.06.94z\"/><path d=\"M17.41 7.96l-1.37-1.37c-.4-.4-.92-.59-1.43-.59-.52 0-1.04.2-1.43.59L10.3 9.45l-7.72 7.72c-.78.78-.78 2.05 0 2.83L4 21.41c.39.39.9.59 1.41.59.51 0 1.02-.2 1.41-.59l7.78-7.78 2.81-2.81c.8-.78.8-2.07 0-2.86zM5.41 20L4 18.59l7.72-7.72 1.47 1.35L5.41 20z\"/>\n",
              "  </svg>\n",
              "      </button>\n",
              "      \n",
              "  <style>\n",
              "    .colab-df-container {\n",
              "      display:flex;\n",
              "      flex-wrap:wrap;\n",
              "      gap: 12px;\n",
              "    }\n",
              "\n",
              "    .colab-df-convert {\n",
              "      background-color: #E8F0FE;\n",
              "      border: none;\n",
              "      border-radius: 50%;\n",
              "      cursor: pointer;\n",
              "      display: none;\n",
              "      fill: #1967D2;\n",
              "      height: 32px;\n",
              "      padding: 0 0 0 0;\n",
              "      width: 32px;\n",
              "    }\n",
              "\n",
              "    .colab-df-convert:hover {\n",
              "      background-color: #E2EBFA;\n",
              "      box-shadow: 0px 1px 2px rgba(60, 64, 67, 0.3), 0px 1px 3px 1px rgba(60, 64, 67, 0.15);\n",
              "      fill: #174EA6;\n",
              "    }\n",
              "\n",
              "    [theme=dark] .colab-df-convert {\n",
              "      background-color: #3B4455;\n",
              "      fill: #D2E3FC;\n",
              "    }\n",
              "\n",
              "    [theme=dark] .colab-df-convert:hover {\n",
              "      background-color: #434B5C;\n",
              "      box-shadow: 0px 1px 3px 1px rgba(0, 0, 0, 0.15);\n",
              "      filter: drop-shadow(0px 1px 2px rgba(0, 0, 0, 0.3));\n",
              "      fill: #FFFFFF;\n",
              "    }\n",
              "  </style>\n",
              "\n",
              "      <script>\n",
              "        const buttonEl =\n",
              "          document.querySelector('#df-fd9203c3-5cb1-41a4-b667-7ec180da3864 button.colab-df-convert');\n",
              "        buttonEl.style.display =\n",
              "          google.colab.kernel.accessAllowed ? 'block' : 'none';\n",
              "\n",
              "        async function convertToInteractive(key) {\n",
              "          const element = document.querySelector('#df-fd9203c3-5cb1-41a4-b667-7ec180da3864');\n",
              "          const dataTable =\n",
              "            await google.colab.kernel.invokeFunction('convertToInteractive',\n",
              "                                                     [key], {});\n",
              "          if (!dataTable) return;\n",
              "\n",
              "          const docLinkHtml = 'Like what you see? Visit the ' +\n",
              "            '<a target=\"_blank\" href=https://colab.research.google.com/notebooks/data_table.ipynb>data table notebook</a>'\n",
              "            + ' to learn more about interactive tables.';\n",
              "          element.innerHTML = '';\n",
              "          dataTable['output_type'] = 'display_data';\n",
              "          await google.colab.output.renderOutput(dataTable, element);\n",
              "          const docLink = document.createElement('div');\n",
              "          docLink.innerHTML = docLinkHtml;\n",
              "          element.appendChild(docLink);\n",
              "        }\n",
              "      </script>\n",
              "    </div>\n",
              "  </div>\n",
              "  "
            ]
          },
          "metadata": {},
          "execution_count": 13
        }
      ]
    },
    {
      "cell_type": "code",
      "source": [
        "returns.mean()"
      ],
      "metadata": {
        "colab": {
          "base_uri": "https://localhost:8080/"
        },
        "id": "cduPnUzbLerV",
        "outputId": "d244f9a5-ca9a-4778-c3d8-b78aa44f7850"
      },
      "execution_count": 14,
      "outputs": [
        {
          "output_type": "execute_result",
          "data": {
            "text/plain": [
              "AAPL    0.001282\n",
              "MSFT    0.001108\n",
              "WMT     0.000655\n",
              "PG      0.000533\n",
              "AMZN    0.000870\n",
              "NVDA    0.001833\n",
              "AMD     0.001854\n",
              "dtype: float64"
            ]
          },
          "metadata": {},
          "execution_count": 14
        }
      ]
    },
    {
      "cell_type": "code",
      "source": [
        "#optimization function\n",
        "def portfolio(weights):\n",
        "  weights = np.array(weights)\n",
        "  expected_return = np.sum((returns.mean()* weights) * 252)\n",
        "  expected_vol = np.sqrt(np.dot(weights.T,np.dot(returns.cov()*252,weights)))\n",
        "  sharpe_r = expected_return/expected_vol\n",
        "  return np.array([expected_return,expected_vol,sharpe_r])\n",
        "\n",
        "def sr_negate(weights):\n",
        "  neg_sr = portfolio(weights)[2] * -1\n",
        "  return neg_sr\n",
        "\n",
        "def weight_check(weights):\n",
        "  weights_sum = np.sum(weights)\n",
        "  return weights_sum - 1\n",
        "def insert_tuples(n):\n",
        "    return [(0, 1) for i in range(n)]"
      ],
      "metadata": {
        "id": "1awblrjlWtpA"
      },
      "execution_count": 15,
      "outputs": []
    },
    {
      "cell_type": "code",
      "source": [
        "#using scipy libary for optimaization(minimize) using solver Sequential Least-Squares Programming (SLSQP)\n",
        "from scipy.optimize import minimize\n",
        "constraints = ({'type':'eq','fun':weight_check})\n",
        "initial_guess = weights\n",
        "bounds=insert_tuples(number_of_symbols)\n",
        "results = minimize(sr_negate,weights,method='SLSQP',bounds=bounds,constraints=constraints)\n",
        "results"
      ],
      "metadata": {
        "id": "3U7JmvTEfKUt",
        "colab": {
          "base_uri": "https://localhost:8080/"
        },
        "outputId": "5278bc03-358f-47a9-84a8-2d4c871e6edb"
      },
      "execution_count": 16,
      "outputs": [
        {
          "output_type": "execute_result",
          "data": {
            "text/plain": [
              "     fun: -1.162869611540745\n",
              "     jac: array([-1.20103359e-05, -7.52061605e-05, -6.02006912e-06, -7.41183758e-05,\n",
              "        2.10668355e-01,  6.74873590e-05,  1.78530812e-04])\n",
              " message: 'Optimization terminated successfully'\n",
              "    nfev: 64\n",
              "     nit: 8\n",
              "    njev: 8\n",
              "  status: 0\n",
              " success: True\n",
              "       x: array([3.28676347e-01, 8.50701939e-02, 2.90447816e-01, 1.22442956e-01,\n",
              "       4.05491613e-17, 8.81195737e-02, 8.52431130e-02])"
            ]
          },
          "metadata": {},
          "execution_count": 16
        }
      ]
    },
    {
      "cell_type": "code",
      "source": [
        "#show data\n",
        "optimized_metrics = portfolio(results.x)\n",
        "print(\"Expected Return={:.2f}%\".format(optimized_metrics[0]*100))\n",
        "print(\"Expected votality={:.2f}%\".format(optimized_metrics[1]*100))\n",
        "print(\"Sharpe Ratio={:.2f}\".format(optimized_metrics[2]))\n",
        "print(\"**OPTIMIZED WEIGHTS**\")\n",
        "results.x\n",
        "plt.pie(results.x, labels=assets)\n",
        "plt.show()"
      ],
      "metadata": {
        "colab": {
          "base_uri": "https://localhost:8080/",
          "height": 333
        },
        "id": "Ytz2IY2e5xxS",
        "outputId": "dee7228d-29d9-46a1-9cea-67187a20b156"
      },
      "execution_count": 17,
      "outputs": [
        {
          "output_type": "stream",
          "name": "stdout",
          "text": [
            "Expected Return=27.49%\n",
            "Expected votality=23.64%\n",
            "Sharpe Ratio=1.16\n",
            "**OPTIMIZED WEIGHTS**\n"
          ]
        },
        {
          "output_type": "display_data",
          "data": {
            "text/plain": [
              "<Figure size 432x288 with 1 Axes>"
            ],
            "image/png": "[encoded data removed]"
          },
          "metadata": {}
        }
      ]
    },
    {
      "cell_type": "code",
      "source": [
        "#create and show the annualise covariance matrix\n",
        "cov_matrix_annual= returns.cov()* 252\n",
        "cov_matrix_annual\n",
        "import numpy as np\n",
        "p=np.dot(cov_matrix_annual,weights)\n",
        "port_variance = np.dot(weights,p)\n",
        "port_variance\n",
        "#calculate portfolio votalility a.k.a standard variance\n",
        "port_volatility= np.sqrt(port_variance)\n",
        "port_volatility\n",
        "portfolioSimpleannualReturn=np.sum(returns.mean()*weights)*252\n",
        "portfolioSimpleannualReturn"
      ],
      "metadata": {
        "colab": {
          "base_uri": "https://localhost:8080/"
        },
        "id": "qYHFTM9aT6go",
        "outputId": "fb505124-b644-4e4c-fdae-a49860814507"
      },
      "execution_count": 18,
      "outputs": [
        {
          "output_type": "execute_result",
          "data": {
            "text/plain": [
              "0.28162450029221375"
            ]
          },
          "metadata": {},
          "execution_count": 18
        }
      ]
    },
    {
      "cell_type": "code",
      "source": [
        "# average weighted vol\n",
        "w_vol = np.dot(np.sqrt(np.diag(cov_matrix_annual)), weights)\n",
        "# portfolio vol\n",
        "port_vol = np.sqrt(port_variance)\n",
        "def calc_diversification_ratio(weights):\n",
        "    diversification_ratio = w_vol/port_vol\n",
        "    # return negative for minimization problem (maximize = minimize -)\n",
        "    return diversification_ratio*-1\n",
        "constraints = ({'type':'eq','fun':weight_check})\n",
        "initial_guess = weights\n",
        "bounds=insert_tuples(number_of_symbols)\n",
        "res = minimize(calc_diversification_ratio,initial_guess, method='SLSQP', bounds=bounds, constraints=constraints)\n",
        "res"
      ],
      "metadata": {
        "colab": {
          "base_uri": "https://localhost:8080/"
        },
        "id": "Cg_haVhh5G3K",
        "outputId": "8c740327-4a0e-4a84-e62b-c6f5a9ce458a"
      },
      "execution_count": 19,
      "outputs": [
        {
          "output_type": "execute_result",
          "data": {
            "text/plain": [
              "     fun: -1.3383557751647879\n",
              "     jac: array([0., 0., 0., 0., 0., 0., 0.])\n",
              " message: 'Optimization terminated successfully'\n",
              "    nfev: 8\n",
              "     nit: 1\n",
              "    njev: 1\n",
              "  status: 0\n",
              " success: True\n",
              "       x: array([0.13355794, 0.04407138, 0.11877627, 0.32328706, 0.05565142,\n",
              "       0.14285717, 0.18179876])"
            ]
          },
          "metadata": {},
          "execution_count": 19
        }
      ]
    },
    {
      "cell_type": "code",
      "source": [
        "optimized_metrics = portfolio(res.x)\n",
        "print(\"Expected Return={:.2f}%\".format(optimized_metrics[0]*100))\n",
        "print(\"Expected votality={:.2f}%\".format(optimized_metrics[1]*100))\n",
        "print(\"Sharpe Ratio={:.2f}\".format(optimized_metrics[2]))\n",
        "print(\"**OPTIMIZED WEIGHTS USING MAXIMUM DIVERSIFICATION**\")\n",
        "results.x\n",
        "plt.pie(res.x, labels=assets)\n",
        "plt.show()"
      ],
      "metadata": {
        "colab": {
          "base_uri": "https://localhost:8080/",
          "height": 333
        },
        "id": "e7we1j_7Vwpo",
        "outputId": "bd843441-30fa-4c35-b757-8719cecda047"
      },
      "execution_count": 20,
      "outputs": [
        {
          "output_type": "stream",
          "name": "stdout",
          "text": [
            "Expected Return=28.16%\n",
            "Expected votality=25.55%\n",
            "Sharpe Ratio=1.10\n",
            "**OPTIMIZED WEIGHTS USING MAXIMUM DIVERSIFICATION**\n"
          ]
        },
        {
          "output_type": "display_data",
          "data": {
            "text/plain": [
              "<Figure size 432x288 with 1 Axes>"
            ],
            "image/png": "[encoded data removed]"
          },
          "metadata": {}
        }
      ]
    },
    {
      "cell_type": "code",
      "source": [
        "import math\n",
        "import numpy as np\n",
        "import pandas as pd\n",
        "\n",
        "def portfolio_return(weights, rets):\n",
        "    return np.dot(weights.T, rets.mean()) * 252\n",
        "\n",
        "def portfolio_variance(weights, rets):\n",
        "    return np.dot(weights.T, np.dot(rets.cov(), weights)) * 252\n",
        "\n",
        "def portfolio_volatility(weights, rets):\n",
        "    return math.sqrt(portfolio_variance(weights, rets))"
      ],
      "metadata": {
        "id": "ayzAGOa-08U5"
      },
      "execution_count": 21,
      "outputs": []
    },
    {
      "cell_type": "code",
      "source": [
        "phi = np.array(number_of_symbols * [1 / number_of_symbols])\n",
        "phi"
      ],
      "metadata": {
        "colab": {
          "base_uri": "https://localhost:8080/"
        },
        "id": "wMNa3yyu1I7f",
        "outputId": "1b9729b3-cf72-4f95-9af0-169f7269482c"
      },
      "execution_count": 22,
      "outputs": [
        {
          "output_type": "execute_result",
          "data": {
            "text/plain": [
              "array([0.14285714, 0.14285714, 0.14285714, 0.14285714, 0.14285714,\n",
              "       0.14285714, 0.14285714])"
            ]
          },
          "metadata": {},
          "execution_count": 22
        }
      ]
    },
    {
      "cell_type": "code",
      "source": [
        "def rel_risk_contributions(weights, rets=returns):\n",
        "    vol = portfolio_volatility(weights, returns)\n",
        "    cov = rets.cov()\n",
        "    mvols = np.dot(cov, weights) / vol\n",
        "    rc = mvols * weights\n",
        "    rrc = rc / rc.sum()\n",
        "    return rrc\n",
        "rrc = rel_risk_contributions(phi)\n",
        "rrc"
      ],
      "metadata": {
        "colab": {
          "base_uri": "https://localhost:8080/"
        },
        "id": "gWbYP-aoQ7c1",
        "outputId": "5beccbb3-6846-421f-ea7a-ba684afe1b67"
      },
      "execution_count": 23,
      "outputs": [
        {
          "output_type": "execute_result",
          "data": {
            "text/plain": [
              "array([0.13697359, 0.13173109, 0.05926323, 0.05380135, 0.14114775,\n",
              "       0.23257051, 0.24451249])"
            ]
          },
          "metadata": {},
          "execution_count": 23
        }
      ]
    },
    {
      "cell_type": "code",
      "source": [
        "def mse_risk_contributions(weights, target, rets=returns):\n",
        "    rc = rel_risk_contributions(weights, rets)\n",
        "    mse = ((rc - target) ** 2).mean()\n",
        "    return mse * 100\n",
        "mse_risk_contributions(phi, phi)\n",
        "cons = {'type': 'eq', 'fun': lambda weights: weights.sum() - 1}\n",
        "target = number_of_symbols * [1 / number_of_symbols,]  # risk parity as target\n",
        "target = [0.2, 0.2, 0.2, 0.2, 0.2, 0.2, 0.2]  # example risk budget as target\n",
        "opt = minimize(lambda w: mse_risk_contributions(w, target=target),\n",
        "               phi, bounds=bounds, constraints=cons)\n",
        "opt"
      ],
      "metadata": {
        "colab": {
          "base_uri": "https://localhost:8080/"
        },
        "id": "01KtG7yU1hjC",
        "outputId": "b32250ce-52ce-4a06-c17c-5a79827031a1"
      },
      "execution_count": 24,
      "outputs": [
        {
          "output_type": "execute_result",
          "data": {
            "text/plain": [
              "     fun: 0.3265306425690885\n",
              "     jac: array([-0.00111224,  0.00015393,  0.00021605,  0.00010186, -0.00079792,\n",
              "        0.00041572,  0.00138851])\n",
              " message: 'Optimization terminated successfully'\n",
              "    nfev: 98\n",
              "     nit: 11\n",
              "    njev: 11\n",
              "  status: 0\n",
              " success: True\n",
              "       x: array([0.12278281, 0.12686731, 0.22451187, 0.24540145, 0.12279148,\n",
              "       0.07925987, 0.07838521])"
            ]
          },
          "metadata": {},
          "execution_count": 24
        }
      ]
    },
    {
      "cell_type": "code",
      "source": [
        "optimized_metrics = portfolio(opt.x)\n",
        "print(\"Expected Return={:.2f}%\".format(optimized_metrics[0]*100))\n",
        "print(\"Expected votality={:.2f}%\".format(optimized_metrics[1]*100))\n",
        "print(\"Sharpe Ratio={:.2f}\".format(optimized_metrics[2]))\n",
        "print(\"**OPTIMIZED WEIGHTS USING RISK PARITY**\")\n",
        "results.x\n",
        "plt.pie(opt.x, labels=assets)\n",
        "plt.show()"
      ],
      "metadata": {
        "colab": {
          "base_uri": "https://localhost:8080/",
          "height": 333
        },
        "id": "jcFMHiLg2rxx",
        "outputId": "b3d32c1c-e417-4e97-fc8a-daa80c2b37bf"
      },
      "execution_count": 25,
      "outputs": [
        {
          "output_type": "stream",
          "name": "stdout",
          "text": [
            "Expected Return=24.53%\n",
            "Expected votality=22.08%\n",
            "Sharpe Ratio=1.11\n",
            "**OPTIMIZED WEIGHTS USING RISK PARITY**\n"
          ]
        },
        {
          "output_type": "display_data",
          "data": {
            "text/plain": [
              "<Figure size 432x288 with 1 Axes>"
            ],
            "image/png": "[encoded data removed]"
          },
          "metadata": {}
        }
      ]
    },
    {
      "cell_type": "code",
      "source": [
        "import numpy as np\n",
        "from scipy.optimize import minimize\n",
        "\n",
        "def he_litterman(mu, P, Omega, Q, lambda_=1):\n",
        "  \n",
        "    \"\"\"\n",
        "    mu: vector of prior expected returns\n",
        "    P: matrix of prior returns covariance\n",
        "    Omega: matrix of views uncertainty\n",
        "    Q: vector of views\n",
        "    lambda_: risk-aversion parameter\n",
        "    \"\"\"\n",
        "    n = len(mu)\n",
        "    # calculate equilibrium returns\n",
        "    tau = lambda_ * P.shape[0] / np.dot(np.dot(Q.T, np.linalg.inv(Omega)), Q)\n",
        "    PI = tau * np.dot(np.dot(P, Q), np.linalg.inv(np.dot(np.dot(Q.T, P), Q) + Omega))\n",
        "    er = mu + PI.dot(Q - np.dot(np.dot(P, Q),np.linalg.inv(np.dot(np.dot(Q.T, P), Q) + Omega)))\n",
        "    # optimize portfolio\n",
        "    def objective(w):\n",
        "        return -np.dot(w, er)\n",
        "\n",
        "    def constraint(w):\n",
        "        return np.dot(np.ones(n), w) - 1\n",
        "\n",
        "    bounds = [(0, 1) for i in range(n)]\n",
        "    w0 = np.ones(n) / n\n",
        "    result = minimize(objective, w0, bounds=bounds, constraints={\"type\": \"eq\", \"fun\": constraint})\n",
        "    result.x\n"
      ],
      "metadata": {
        "id": "zsGAQ1LSKNXg"
      },
      "execution_count": 28,
      "outputs": []
    }
  ]
}